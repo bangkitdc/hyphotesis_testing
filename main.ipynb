{
 "cells": [
  {
   "cell_type": "markdown",
   "metadata": {},
   "source": [
    "# Tugas Besar IF2220 Probabilitas dan Statistika"
   ]
  },
  {
   "cell_type": "markdown",
   "metadata": {},
   "source": [
    "## Penarikan Kesimpulan dan Pengujian Hipotesis"
   ]
  },
  {
   "cell_type": "markdown",
   "metadata": {},
   "source": [
    "### Dibuat Oleh: <br> <br> 13521055 Muhammad Bangkit Dwi Cahyono <br> <br> 13521081 Bagas Aryo Seto"
   ]
  },
  {
   "cell_type": "markdown",
   "metadata": {},
   "source": [
    "## Inisialisasi library"
   ]
  },
  {
   "cell_type": "code",
   "execution_count": 1,
   "metadata": {},
   "outputs": [],
   "source": [
    "import pandas as pd\n",
    "import matplotlib.pyplot as plt\n",
    "import scipy.stats as stats\n",
    "import numpy as np\n",
    "from IPython.display import Markdown, display\n",
    "from statsmodels.stats.weightstats import ztest\n",
    "from statsmodels.stats.proportion import proportions_ztest"
   ]
  },
  {
   "cell_type": "markdown",
   "metadata": {},
   "source": [
    "## 1. Menulis deskripsi statistika (Descriptive Statistics) dari semua kolom pada data yang bersifat numerik, terdiri dari mean, median, modus, standar deviasi, variansi, range, nilai minimum, maksimum, kuartil, IQR, skewness dan kurtosis. Boleh juga ditambahkan deskripsi lain."
   ]
  },
  {
   "cell_type": "code",
   "execution_count": 2,
   "metadata": {},
   "outputs": [
    {
     "name": "stdout",
     "output_type": "stream",
     "text": [
      "<class 'pandas.core.frame.DataFrame'>\n",
      "RangeIndex: 1000 entries, 0 to 999\n",
      "Data columns (total 12 columns):\n",
      " #   Column                Non-Null Count  Dtype  \n",
      "---  ------                --------------  -----  \n",
      " 0   fixed acidity         1000 non-null   float64\n",
      " 1   volatile acidity      1000 non-null   float64\n",
      " 2   citric acid           1000 non-null   float64\n",
      " 3   residual sugar        1000 non-null   float64\n",
      " 4   chlorides             1000 non-null   float64\n",
      " 5   free sulfur dioxide   1000 non-null   float64\n",
      " 6   total sulfur dioxide  1000 non-null   float64\n",
      " 7   density               1000 non-null   float64\n",
      " 8   pH                    1000 non-null   float64\n",
      " 9   sulphates             1000 non-null   float64\n",
      " 10  alcohol               1000 non-null   float64\n",
      " 11  quality               1000 non-null   int64  \n",
      "dtypes: float64(11), int64(1)\n",
      "memory usage: 93.9 KB\n"
     ]
    }
   ],
   "source": [
    "df = pd.read_csv('dataset/anggur.csv')\n",
    "df.info()"
   ]
  },
  {
   "cell_type": "code",
   "execution_count": 3,
   "metadata": {},
   "outputs": [
    {
     "data": {
      "text/markdown": [
       "#### Mean, Median, Standar Deviasi, Variansi, Range, Minimum, Maximum, Kuartil, Skewness, dan Kurtosis"
      ],
      "text/plain": [
       "<IPython.core.display.Markdown object>"
      ]
     },
     "metadata": {},
     "output_type": "display_data"
    },
    {
     "data": {
      "text/html": [
       "<div>\n",
       "<style scoped>\n",
       "    .dataframe tbody tr th:only-of-type {\n",
       "        vertical-align: middle;\n",
       "    }\n",
       "\n",
       "    .dataframe tbody tr th {\n",
       "        vertical-align: top;\n",
       "    }\n",
       "\n",
       "    .dataframe thead th {\n",
       "        text-align: right;\n",
       "    }\n",
       "</style>\n",
       "<table border=\"1\" class=\"dataframe\">\n",
       "  <thead>\n",
       "    <tr style=\"text-align: right;\">\n",
       "      <th></th>\n",
       "      <th>Mean</th>\n",
       "      <th>Median</th>\n",
       "      <th>STD</th>\n",
       "      <th>Var</th>\n",
       "      <th>Range</th>\n",
       "      <th>Min</th>\n",
       "      <th>Max</th>\n",
       "      <th>Q1</th>\n",
       "      <th>Q2</th>\n",
       "      <th>Q3</th>\n",
       "      <th>IQR</th>\n",
       "      <th>Skew</th>\n",
       "      <th>Kurt</th>\n",
       "    </tr>\n",
       "  </thead>\n",
       "  <tbody>\n",
       "    <tr>\n",
       "      <th>fixed acidity</th>\n",
       "      <td>7.152530</td>\n",
       "      <td>7.150000</td>\n",
       "      <td>1.201598</td>\n",
       "      <td>1.443837</td>\n",
       "      <td>8.170000</td>\n",
       "      <td>3.320000</td>\n",
       "      <td>11.490000</td>\n",
       "      <td>6.377500</td>\n",
       "      <td>7.150000</td>\n",
       "      <td>8.000000</td>\n",
       "      <td>1.622500</td>\n",
       "      <td>-0.028879</td>\n",
       "      <td>-0.019292</td>\n",
       "    </tr>\n",
       "    <tr>\n",
       "      <th>volatile acidity</th>\n",
       "      <td>0.520838</td>\n",
       "      <td>0.524850</td>\n",
       "      <td>0.095848</td>\n",
       "      <td>0.009187</td>\n",
       "      <td>0.665200</td>\n",
       "      <td>0.139900</td>\n",
       "      <td>0.805100</td>\n",
       "      <td>0.456100</td>\n",
       "      <td>0.524850</td>\n",
       "      <td>0.585375</td>\n",
       "      <td>0.129275</td>\n",
       "      <td>-0.197699</td>\n",
       "      <td>0.161853</td>\n",
       "    </tr>\n",
       "    <tr>\n",
       "      <th>citric acid</th>\n",
       "      <td>0.270517</td>\n",
       "      <td>0.272200</td>\n",
       "      <td>0.049098</td>\n",
       "      <td>0.002411</td>\n",
       "      <td>0.292900</td>\n",
       "      <td>0.116700</td>\n",
       "      <td>0.409600</td>\n",
       "      <td>0.237800</td>\n",
       "      <td>0.272200</td>\n",
       "      <td>0.302325</td>\n",
       "      <td>0.064525</td>\n",
       "      <td>-0.045576</td>\n",
       "      <td>-0.104679</td>\n",
       "    </tr>\n",
       "    <tr>\n",
       "      <th>residual sugar</th>\n",
       "      <td>2.567104</td>\n",
       "      <td>2.519430</td>\n",
       "      <td>0.987915</td>\n",
       "      <td>0.975977</td>\n",
       "      <td>5.518200</td>\n",
       "      <td>0.032555</td>\n",
       "      <td>5.550755</td>\n",
       "      <td>1.896330</td>\n",
       "      <td>2.519430</td>\n",
       "      <td>3.220873</td>\n",
       "      <td>1.324544</td>\n",
       "      <td>0.132638</td>\n",
       "      <td>-0.042980</td>\n",
       "    </tr>\n",
       "    <tr>\n",
       "      <th>chlorides</th>\n",
       "      <td>0.081195</td>\n",
       "      <td>0.082167</td>\n",
       "      <td>0.020111</td>\n",
       "      <td>0.000404</td>\n",
       "      <td>0.125635</td>\n",
       "      <td>0.015122</td>\n",
       "      <td>0.140758</td>\n",
       "      <td>0.066574</td>\n",
       "      <td>0.082167</td>\n",
       "      <td>0.095312</td>\n",
       "      <td>0.028738</td>\n",
       "      <td>-0.051319</td>\n",
       "      <td>-0.246508</td>\n",
       "    </tr>\n",
       "    <tr>\n",
       "      <th>free sulfur dioxide</th>\n",
       "      <td>14.907679</td>\n",
       "      <td>14.860346</td>\n",
       "      <td>4.888100</td>\n",
       "      <td>23.893519</td>\n",
       "      <td>27.267847</td>\n",
       "      <td>0.194679</td>\n",
       "      <td>27.462525</td>\n",
       "      <td>11.426717</td>\n",
       "      <td>14.860346</td>\n",
       "      <td>18.313098</td>\n",
       "      <td>6.886381</td>\n",
       "      <td>0.007130</td>\n",
       "      <td>-0.364964</td>\n",
       "    </tr>\n",
       "    <tr>\n",
       "      <th>total sulfur dioxide</th>\n",
       "      <td>40.290150</td>\n",
       "      <td>40.190000</td>\n",
       "      <td>9.965767</td>\n",
       "      <td>99.316519</td>\n",
       "      <td>66.810000</td>\n",
       "      <td>3.150000</td>\n",
       "      <td>69.960000</td>\n",
       "      <td>33.785000</td>\n",
       "      <td>40.190000</td>\n",
       "      <td>47.022500</td>\n",
       "      <td>13.237500</td>\n",
       "      <td>-0.024060</td>\n",
       "      <td>0.063950</td>\n",
       "    </tr>\n",
       "    <tr>\n",
       "      <th>density</th>\n",
       "      <td>0.995925</td>\n",
       "      <td>0.996000</td>\n",
       "      <td>0.002020</td>\n",
       "      <td>0.000004</td>\n",
       "      <td>0.013800</td>\n",
       "      <td>0.988800</td>\n",
       "      <td>1.002600</td>\n",
       "      <td>0.994600</td>\n",
       "      <td>0.996000</td>\n",
       "      <td>0.997200</td>\n",
       "      <td>0.002600</td>\n",
       "      <td>-0.076883</td>\n",
       "      <td>0.016366</td>\n",
       "    </tr>\n",
       "    <tr>\n",
       "      <th>pH</th>\n",
       "      <td>3.303610</td>\n",
       "      <td>3.300000</td>\n",
       "      <td>0.104875</td>\n",
       "      <td>0.010999</td>\n",
       "      <td>0.740000</td>\n",
       "      <td>2.970000</td>\n",
       "      <td>3.710000</td>\n",
       "      <td>3.230000</td>\n",
       "      <td>3.300000</td>\n",
       "      <td>3.370000</td>\n",
       "      <td>0.140000</td>\n",
       "      <td>0.147673</td>\n",
       "      <td>0.080910</td>\n",
       "    </tr>\n",
       "    <tr>\n",
       "      <th>sulphates</th>\n",
       "      <td>0.598390</td>\n",
       "      <td>0.595000</td>\n",
       "      <td>0.100819</td>\n",
       "      <td>0.010164</td>\n",
       "      <td>0.670000</td>\n",
       "      <td>0.290000</td>\n",
       "      <td>0.960000</td>\n",
       "      <td>0.530000</td>\n",
       "      <td>0.595000</td>\n",
       "      <td>0.670000</td>\n",
       "      <td>0.140000</td>\n",
       "      <td>0.149199</td>\n",
       "      <td>0.064819</td>\n",
       "    </tr>\n",
       "    <tr>\n",
       "      <th>alcohol</th>\n",
       "      <td>10.592280</td>\n",
       "      <td>10.610000</td>\n",
       "      <td>1.510706</td>\n",
       "      <td>2.282233</td>\n",
       "      <td>8.990000</td>\n",
       "      <td>6.030000</td>\n",
       "      <td>15.020000</td>\n",
       "      <td>9.560000</td>\n",
       "      <td>10.610000</td>\n",
       "      <td>11.622500</td>\n",
       "      <td>2.062500</td>\n",
       "      <td>-0.018991</td>\n",
       "      <td>-0.131732</td>\n",
       "    </tr>\n",
       "    <tr>\n",
       "      <th>quality</th>\n",
       "      <td>7.958000</td>\n",
       "      <td>8.000000</td>\n",
       "      <td>0.902802</td>\n",
       "      <td>0.815051</td>\n",
       "      <td>5.000000</td>\n",
       "      <td>5.000000</td>\n",
       "      <td>10.000000</td>\n",
       "      <td>7.000000</td>\n",
       "      <td>8.000000</td>\n",
       "      <td>9.000000</td>\n",
       "      <td>2.000000</td>\n",
       "      <td>-0.089054</td>\n",
       "      <td>0.108291</td>\n",
       "    </tr>\n",
       "  </tbody>\n",
       "</table>\n",
       "</div>"
      ],
      "text/plain": [
       "                           Mean     Median       STD        Var      Range  \\\n",
       "fixed acidity          7.152530   7.150000  1.201598   1.443837   8.170000   \n",
       "volatile acidity       0.520838   0.524850  0.095848   0.009187   0.665200   \n",
       "citric acid            0.270517   0.272200  0.049098   0.002411   0.292900   \n",
       "residual sugar         2.567104   2.519430  0.987915   0.975977   5.518200   \n",
       "chlorides              0.081195   0.082167  0.020111   0.000404   0.125635   \n",
       "free sulfur dioxide   14.907679  14.860346  4.888100  23.893519  27.267847   \n",
       "total sulfur dioxide  40.290150  40.190000  9.965767  99.316519  66.810000   \n",
       "density                0.995925   0.996000  0.002020   0.000004   0.013800   \n",
       "pH                     3.303610   3.300000  0.104875   0.010999   0.740000   \n",
       "sulphates              0.598390   0.595000  0.100819   0.010164   0.670000   \n",
       "alcohol               10.592280  10.610000  1.510706   2.282233   8.990000   \n",
       "quality                7.958000   8.000000  0.902802   0.815051   5.000000   \n",
       "\n",
       "                           Min        Max         Q1         Q2         Q3  \\\n",
       "fixed acidity         3.320000  11.490000   6.377500   7.150000   8.000000   \n",
       "volatile acidity      0.139900   0.805100   0.456100   0.524850   0.585375   \n",
       "citric acid           0.116700   0.409600   0.237800   0.272200   0.302325   \n",
       "residual sugar        0.032555   5.550755   1.896330   2.519430   3.220873   \n",
       "chlorides             0.015122   0.140758   0.066574   0.082167   0.095312   \n",
       "free sulfur dioxide   0.194679  27.462525  11.426717  14.860346  18.313098   \n",
       "total sulfur dioxide  3.150000  69.960000  33.785000  40.190000  47.022500   \n",
       "density               0.988800   1.002600   0.994600   0.996000   0.997200   \n",
       "pH                    2.970000   3.710000   3.230000   3.300000   3.370000   \n",
       "sulphates             0.290000   0.960000   0.530000   0.595000   0.670000   \n",
       "alcohol               6.030000  15.020000   9.560000  10.610000  11.622500   \n",
       "quality               5.000000  10.000000   7.000000   8.000000   9.000000   \n",
       "\n",
       "                            IQR      Skew      Kurt  \n",
       "fixed acidity          1.622500 -0.028879 -0.019292  \n",
       "volatile acidity       0.129275 -0.197699  0.161853  \n",
       "citric acid            0.064525 -0.045576 -0.104679  \n",
       "residual sugar         1.324544  0.132638 -0.042980  \n",
       "chlorides              0.028738 -0.051319 -0.246508  \n",
       "free sulfur dioxide    6.886381  0.007130 -0.364964  \n",
       "total sulfur dioxide  13.237500 -0.024060  0.063950  \n",
       "density                0.002600 -0.076883  0.016366  \n",
       "pH                     0.140000  0.147673  0.080910  \n",
       "sulphates              0.140000  0.149199  0.064819  \n",
       "alcohol                2.062500 -0.018991 -0.131732  \n",
       "quality                2.000000 -0.089054  0.108291  "
      ]
     },
     "metadata": {},
     "output_type": "display_data"
    }
   ],
   "source": [
    "display(Markdown(\"#### Mean, Median, Standar Deviasi, Variansi, Range, Minimum, Maximum, Kuartil, Skewness, dan Kurtosis\"))\n",
    "no1 = df\n",
    "\n",
    "stat = pd.DataFrame()\n",
    "stat[\"Mean\"] = no1.mean()\n",
    "stat[\"Median\"] = no1.median()\n",
    "stat[\"STD\"] = no1.std()\n",
    "stat[\"Var\"] = no1.var()\n",
    "stat[\"Range\"] = no1.max() - no1.min()\n",
    "stat[\"Min\"] = no1.min()\n",
    "stat[\"Max\"] = no1.max()\n",
    "stat[\"Q1\"] = no1.quantile(0.25)\n",
    "stat[\"Q2\"] = no1.quantile(0.5)\n",
    "stat[\"Q3\"] = no1.quantile(0.75)\n",
    "stat[\"IQR\"] = stat[\"Q3\"] - stat[\"Q1\"]\n",
    "stat[\"Skew\"] = no1.skew()\n",
    "stat[\"Kurt\"] = no1.kurtosis()\n",
    "display(stat)"
   ]
  },
  {
   "cell_type": "code",
   "execution_count": 4,
   "metadata": {},
   "outputs": [
    {
     "data": {
      "text/markdown": [
       "#### Modus (multivalue)"
      ],
      "text/plain": [
       "<IPython.core.display.Markdown object>"
      ]
     },
     "metadata": {},
     "output_type": "display_data"
    },
    {
     "data": {
      "text/html": [
       "<div>\n",
       "<style scoped>\n",
       "    .dataframe tbody tr th:only-of-type {\n",
       "        vertical-align: middle;\n",
       "    }\n",
       "\n",
       "    .dataframe tbody tr th {\n",
       "        vertical-align: top;\n",
       "    }\n",
       "\n",
       "    .dataframe thead th {\n",
       "        text-align: right;\n",
       "    }\n",
       "</style>\n",
       "<table border=\"1\" class=\"dataframe\">\n",
       "  <thead>\n",
       "    <tr style=\"text-align: right;\">\n",
       "      <th></th>\n",
       "      <th>fixed acidity</th>\n",
       "      <th>volatile acidity</th>\n",
       "      <th>citric acid</th>\n",
       "      <th>residual sugar</th>\n",
       "      <th>chlorides</th>\n",
       "      <th>free sulfur dioxide</th>\n",
       "      <th>total sulfur dioxide</th>\n",
       "      <th>density</th>\n",
       "      <th>pH</th>\n",
       "      <th>sulphates</th>\n",
       "      <th>alcohol</th>\n",
       "      <th>quality</th>\n",
       "    </tr>\n",
       "  </thead>\n",
       "  <tbody>\n",
       "    <tr>\n",
       "      <th>0</th>\n",
       "      <td>6.54</td>\n",
       "      <td>0.5546</td>\n",
       "      <td>0.3019</td>\n",
       "      <td>0.032555</td>\n",
       "      <td>0.015122</td>\n",
       "      <td>0.194679</td>\n",
       "      <td>35.20</td>\n",
       "      <td>0.9959</td>\n",
       "      <td>3.34</td>\n",
       "      <td>0.59</td>\n",
       "      <td>9.86</td>\n",
       "      <td>8.0</td>\n",
       "    </tr>\n",
       "    <tr>\n",
       "      <th>1</th>\n",
       "      <td>NaN</td>\n",
       "      <td>NaN</td>\n",
       "      <td>NaN</td>\n",
       "      <td>0.033333</td>\n",
       "      <td>0.020794</td>\n",
       "      <td>0.621628</td>\n",
       "      <td>37.25</td>\n",
       "      <td>0.9961</td>\n",
       "      <td>NaN</td>\n",
       "      <td>NaN</td>\n",
       "      <td>10.31</td>\n",
       "      <td>NaN</td>\n",
       "    </tr>\n",
       "    <tr>\n",
       "      <th>2</th>\n",
       "      <td>NaN</td>\n",
       "      <td>NaN</td>\n",
       "      <td>NaN</td>\n",
       "      <td>0.051774</td>\n",
       "      <td>0.024259</td>\n",
       "      <td>0.860177</td>\n",
       "      <td>39.64</td>\n",
       "      <td>0.9965</td>\n",
       "      <td>NaN</td>\n",
       "      <td>NaN</td>\n",
       "      <td>NaN</td>\n",
       "      <td>NaN</td>\n",
       "    </tr>\n",
       "    <tr>\n",
       "      <th>3</th>\n",
       "      <td>NaN</td>\n",
       "      <td>NaN</td>\n",
       "      <td>NaN</td>\n",
       "      <td>0.077156</td>\n",
       "      <td>0.027209</td>\n",
       "      <td>3.032139</td>\n",
       "      <td>40.61</td>\n",
       "      <td>0.9970</td>\n",
       "      <td>NaN</td>\n",
       "      <td>NaN</td>\n",
       "      <td>NaN</td>\n",
       "      <td>NaN</td>\n",
       "    </tr>\n",
       "    <tr>\n",
       "      <th>4</th>\n",
       "      <td>NaN</td>\n",
       "      <td>NaN</td>\n",
       "      <td>NaN</td>\n",
       "      <td>0.084744</td>\n",
       "      <td>0.032111</td>\n",
       "      <td>3.129885</td>\n",
       "      <td>41.05</td>\n",
       "      <td>NaN</td>\n",
       "      <td>NaN</td>\n",
       "      <td>NaN</td>\n",
       "      <td>NaN</td>\n",
       "      <td>NaN</td>\n",
       "    </tr>\n",
       "    <tr>\n",
       "      <th>...</th>\n",
       "      <td>...</td>\n",
       "      <td>...</td>\n",
       "      <td>...</td>\n",
       "      <td>...</td>\n",
       "      <td>...</td>\n",
       "      <td>...</td>\n",
       "      <td>...</td>\n",
       "      <td>...</td>\n",
       "      <td>...</td>\n",
       "      <td>...</td>\n",
       "      <td>...</td>\n",
       "      <td>...</td>\n",
       "    </tr>\n",
       "    <tr>\n",
       "      <th>995</th>\n",
       "      <td>NaN</td>\n",
       "      <td>NaN</td>\n",
       "      <td>NaN</td>\n",
       "      <td>5.210260</td>\n",
       "      <td>0.131425</td>\n",
       "      <td>26.630490</td>\n",
       "      <td>NaN</td>\n",
       "      <td>NaN</td>\n",
       "      <td>NaN</td>\n",
       "      <td>NaN</td>\n",
       "      <td>NaN</td>\n",
       "      <td>NaN</td>\n",
       "    </tr>\n",
       "    <tr>\n",
       "      <th>996</th>\n",
       "      <td>NaN</td>\n",
       "      <td>NaN</td>\n",
       "      <td>NaN</td>\n",
       "      <td>5.217429</td>\n",
       "      <td>0.133656</td>\n",
       "      <td>26.665773</td>\n",
       "      <td>NaN</td>\n",
       "      <td>NaN</td>\n",
       "      <td>NaN</td>\n",
       "      <td>NaN</td>\n",
       "      <td>NaN</td>\n",
       "      <td>NaN</td>\n",
       "    </tr>\n",
       "    <tr>\n",
       "      <th>997</th>\n",
       "      <td>NaN</td>\n",
       "      <td>NaN</td>\n",
       "      <td>NaN</td>\n",
       "      <td>5.252864</td>\n",
       "      <td>0.135368</td>\n",
       "      <td>26.822626</td>\n",
       "      <td>NaN</td>\n",
       "      <td>NaN</td>\n",
       "      <td>NaN</td>\n",
       "      <td>NaN</td>\n",
       "      <td>NaN</td>\n",
       "      <td>NaN</td>\n",
       "    </tr>\n",
       "    <tr>\n",
       "      <th>998</th>\n",
       "      <td>NaN</td>\n",
       "      <td>NaN</td>\n",
       "      <td>NaN</td>\n",
       "      <td>5.299524</td>\n",
       "      <td>0.135790</td>\n",
       "      <td>27.006307</td>\n",
       "      <td>NaN</td>\n",
       "      <td>NaN</td>\n",
       "      <td>NaN</td>\n",
       "      <td>NaN</td>\n",
       "      <td>NaN</td>\n",
       "      <td>NaN</td>\n",
       "    </tr>\n",
       "    <tr>\n",
       "      <th>999</th>\n",
       "      <td>NaN</td>\n",
       "      <td>NaN</td>\n",
       "      <td>NaN</td>\n",
       "      <td>5.550755</td>\n",
       "      <td>0.140758</td>\n",
       "      <td>27.462525</td>\n",
       "      <td>NaN</td>\n",
       "      <td>NaN</td>\n",
       "      <td>NaN</td>\n",
       "      <td>NaN</td>\n",
       "      <td>NaN</td>\n",
       "      <td>NaN</td>\n",
       "    </tr>\n",
       "  </tbody>\n",
       "</table>\n",
       "<p>1000 rows × 12 columns</p>\n",
       "</div>"
      ],
      "text/plain": [
       "     fixed acidity  volatile acidity  citric acid  residual sugar  chlorides  \\\n",
       "0             6.54            0.5546       0.3019        0.032555   0.015122   \n",
       "1              NaN               NaN          NaN        0.033333   0.020794   \n",
       "2              NaN               NaN          NaN        0.051774   0.024259   \n",
       "3              NaN               NaN          NaN        0.077156   0.027209   \n",
       "4              NaN               NaN          NaN        0.084744   0.032111   \n",
       "..             ...               ...          ...             ...        ...   \n",
       "995            NaN               NaN          NaN        5.210260   0.131425   \n",
       "996            NaN               NaN          NaN        5.217429   0.133656   \n",
       "997            NaN               NaN          NaN        5.252864   0.135368   \n",
       "998            NaN               NaN          NaN        5.299524   0.135790   \n",
       "999            NaN               NaN          NaN        5.550755   0.140758   \n",
       "\n",
       "     free sulfur dioxide  total sulfur dioxide  density    pH  sulphates  \\\n",
       "0               0.194679                 35.20   0.9959  3.34       0.59   \n",
       "1               0.621628                 37.25   0.9961   NaN        NaN   \n",
       "2               0.860177                 39.64   0.9965   NaN        NaN   \n",
       "3               3.032139                 40.61   0.9970   NaN        NaN   \n",
       "4               3.129885                 41.05      NaN   NaN        NaN   \n",
       "..                   ...                   ...      ...   ...        ...   \n",
       "995            26.630490                   NaN      NaN   NaN        NaN   \n",
       "996            26.665773                   NaN      NaN   NaN        NaN   \n",
       "997            26.822626                   NaN      NaN   NaN        NaN   \n",
       "998            27.006307                   NaN      NaN   NaN        NaN   \n",
       "999            27.462525                   NaN      NaN   NaN        NaN   \n",
       "\n",
       "     alcohol  quality  \n",
       "0       9.86      8.0  \n",
       "1      10.31      NaN  \n",
       "2        NaN      NaN  \n",
       "3        NaN      NaN  \n",
       "4        NaN      NaN  \n",
       "..       ...      ...  \n",
       "995      NaN      NaN  \n",
       "996      NaN      NaN  \n",
       "997      NaN      NaN  \n",
       "998      NaN      NaN  \n",
       "999      NaN      NaN  \n",
       "\n",
       "[1000 rows x 12 columns]"
      ]
     },
     "metadata": {},
     "output_type": "display_data"
    }
   ],
   "source": [
    "display(Markdown(\"#### Modus (multivalue)\"))\n",
    "display(no1.mode())"
   ]
  },
  {
   "cell_type": "markdown",
   "metadata": {},
   "source": [
    "Dari tabel di atas terlihat bahwa ada beberapa atribut yang memiliki modus yang multivalue, sehingga tidak dapat langsung dicari modus dari masing-masing attributnya"
   ]
  },
  {
   "cell_type": "code",
   "execution_count": 5,
   "metadata": {},
   "outputs": [
    {
     "data": {
      "text/markdown": [
       "#### Modus (filtered)"
      ],
      "text/plain": [
       "<IPython.core.display.Markdown object>"
      ]
     },
     "metadata": {},
     "output_type": "display_data"
    },
    {
     "data": {
      "text/plain": [
       "fixed acidity                 6.54\n",
       "volatile acidity            0.5546\n",
       "citric acid                 0.3019\n",
       "residual sugar          multivalue\n",
       "chlorides               multivalue\n",
       "free sulfur dioxide     multivalue\n",
       "total sulfur dioxide    multivalue\n",
       "density                 multivalue\n",
       "pH                            3.34\n",
       "sulphates                     0.59\n",
       "alcohol                 multivalue\n",
       "quality                        8.0\n",
       "dtype: object"
      ]
     },
     "metadata": {},
     "output_type": "display_data"
    }
   ],
   "source": [
    "display(Markdown(\"#### Modus (filtered)\"))\n",
    "modus_filtered = no1.mode()\n",
    "\n",
    "# Drop NaN dan cek apakah dia multivalue atau bukan\n",
    "modus_filtered = modus_filtered.apply(\n",
    "    lambda x: 'multivalue' if len(x.dropna().unique()) > 1 else x[0])\n",
    "\n",
    "display(modus_filtered)"
   ]
  },
  {
   "cell_type": "code",
   "execution_count": 6,
   "metadata": {},
   "outputs": [
    {
     "data": {
      "text/markdown": [
       "#### Hasil Akhir <br> <br> Mean, Median, Modus, Standar Deviasi, Variansi, Range, Minimum, Maximum, Kuartil, Skewness, dan Kurtosis"
      ],
      "text/plain": [
       "<IPython.core.display.Markdown object>"
      ]
     },
     "metadata": {},
     "output_type": "display_data"
    },
    {
     "data": {
      "text/html": [
       "<div>\n",
       "<style scoped>\n",
       "    .dataframe tbody tr th:only-of-type {\n",
       "        vertical-align: middle;\n",
       "    }\n",
       "\n",
       "    .dataframe tbody tr th {\n",
       "        vertical-align: top;\n",
       "    }\n",
       "\n",
       "    .dataframe thead th {\n",
       "        text-align: right;\n",
       "    }\n",
       "</style>\n",
       "<table border=\"1\" class=\"dataframe\">\n",
       "  <thead>\n",
       "    <tr style=\"text-align: right;\">\n",
       "      <th></th>\n",
       "      <th>Mean</th>\n",
       "      <th>Median</th>\n",
       "      <th>Modus</th>\n",
       "      <th>STD</th>\n",
       "      <th>Var</th>\n",
       "      <th>Range</th>\n",
       "      <th>Min</th>\n",
       "      <th>Max</th>\n",
       "      <th>Q1</th>\n",
       "      <th>Q2</th>\n",
       "      <th>Q3</th>\n",
       "      <th>IQR</th>\n",
       "      <th>Skew</th>\n",
       "      <th>Kurt</th>\n",
       "    </tr>\n",
       "  </thead>\n",
       "  <tbody>\n",
       "    <tr>\n",
       "      <th>fixed acidity</th>\n",
       "      <td>7.152530</td>\n",
       "      <td>7.150000</td>\n",
       "      <td>6.54</td>\n",
       "      <td>1.201598</td>\n",
       "      <td>1.443837</td>\n",
       "      <td>8.170000</td>\n",
       "      <td>3.320000</td>\n",
       "      <td>11.490000</td>\n",
       "      <td>6.377500</td>\n",
       "      <td>7.150000</td>\n",
       "      <td>8.000000</td>\n",
       "      <td>1.622500</td>\n",
       "      <td>-0.028879</td>\n",
       "      <td>-0.019292</td>\n",
       "    </tr>\n",
       "    <tr>\n",
       "      <th>volatile acidity</th>\n",
       "      <td>0.520838</td>\n",
       "      <td>0.524850</td>\n",
       "      <td>0.5546</td>\n",
       "      <td>0.095848</td>\n",
       "      <td>0.009187</td>\n",
       "      <td>0.665200</td>\n",
       "      <td>0.139900</td>\n",
       "      <td>0.805100</td>\n",
       "      <td>0.456100</td>\n",
       "      <td>0.524850</td>\n",
       "      <td>0.585375</td>\n",
       "      <td>0.129275</td>\n",
       "      <td>-0.197699</td>\n",
       "      <td>0.161853</td>\n",
       "    </tr>\n",
       "    <tr>\n",
       "      <th>citric acid</th>\n",
       "      <td>0.270517</td>\n",
       "      <td>0.272200</td>\n",
       "      <td>0.3019</td>\n",
       "      <td>0.049098</td>\n",
       "      <td>0.002411</td>\n",
       "      <td>0.292900</td>\n",
       "      <td>0.116700</td>\n",
       "      <td>0.409600</td>\n",
       "      <td>0.237800</td>\n",
       "      <td>0.272200</td>\n",
       "      <td>0.302325</td>\n",
       "      <td>0.064525</td>\n",
       "      <td>-0.045576</td>\n",
       "      <td>-0.104679</td>\n",
       "    </tr>\n",
       "    <tr>\n",
       "      <th>residual sugar</th>\n",
       "      <td>2.567104</td>\n",
       "      <td>2.519430</td>\n",
       "      <td>multivalue</td>\n",
       "      <td>0.987915</td>\n",
       "      <td>0.975977</td>\n",
       "      <td>5.518200</td>\n",
       "      <td>0.032555</td>\n",
       "      <td>5.550755</td>\n",
       "      <td>1.896330</td>\n",
       "      <td>2.519430</td>\n",
       "      <td>3.220873</td>\n",
       "      <td>1.324544</td>\n",
       "      <td>0.132638</td>\n",
       "      <td>-0.042980</td>\n",
       "    </tr>\n",
       "    <tr>\n",
       "      <th>chlorides</th>\n",
       "      <td>0.081195</td>\n",
       "      <td>0.082167</td>\n",
       "      <td>multivalue</td>\n",
       "      <td>0.020111</td>\n",
       "      <td>0.000404</td>\n",
       "      <td>0.125635</td>\n",
       "      <td>0.015122</td>\n",
       "      <td>0.140758</td>\n",
       "      <td>0.066574</td>\n",
       "      <td>0.082167</td>\n",
       "      <td>0.095312</td>\n",
       "      <td>0.028738</td>\n",
       "      <td>-0.051319</td>\n",
       "      <td>-0.246508</td>\n",
       "    </tr>\n",
       "    <tr>\n",
       "      <th>free sulfur dioxide</th>\n",
       "      <td>14.907679</td>\n",
       "      <td>14.860346</td>\n",
       "      <td>multivalue</td>\n",
       "      <td>4.888100</td>\n",
       "      <td>23.893519</td>\n",
       "      <td>27.267847</td>\n",
       "      <td>0.194679</td>\n",
       "      <td>27.462525</td>\n",
       "      <td>11.426717</td>\n",
       "      <td>14.860346</td>\n",
       "      <td>18.313098</td>\n",
       "      <td>6.886381</td>\n",
       "      <td>0.007130</td>\n",
       "      <td>-0.364964</td>\n",
       "    </tr>\n",
       "    <tr>\n",
       "      <th>total sulfur dioxide</th>\n",
       "      <td>40.290150</td>\n",
       "      <td>40.190000</td>\n",
       "      <td>multivalue</td>\n",
       "      <td>9.965767</td>\n",
       "      <td>99.316519</td>\n",
       "      <td>66.810000</td>\n",
       "      <td>3.150000</td>\n",
       "      <td>69.960000</td>\n",
       "      <td>33.785000</td>\n",
       "      <td>40.190000</td>\n",
       "      <td>47.022500</td>\n",
       "      <td>13.237500</td>\n",
       "      <td>-0.024060</td>\n",
       "      <td>0.063950</td>\n",
       "    </tr>\n",
       "    <tr>\n",
       "      <th>density</th>\n",
       "      <td>0.995925</td>\n",
       "      <td>0.996000</td>\n",
       "      <td>multivalue</td>\n",
       "      <td>0.002020</td>\n",
       "      <td>0.000004</td>\n",
       "      <td>0.013800</td>\n",
       "      <td>0.988800</td>\n",
       "      <td>1.002600</td>\n",
       "      <td>0.994600</td>\n",
       "      <td>0.996000</td>\n",
       "      <td>0.997200</td>\n",
       "      <td>0.002600</td>\n",
       "      <td>-0.076883</td>\n",
       "      <td>0.016366</td>\n",
       "    </tr>\n",
       "    <tr>\n",
       "      <th>pH</th>\n",
       "      <td>3.303610</td>\n",
       "      <td>3.300000</td>\n",
       "      <td>3.34</td>\n",
       "      <td>0.104875</td>\n",
       "      <td>0.010999</td>\n",
       "      <td>0.740000</td>\n",
       "      <td>2.970000</td>\n",
       "      <td>3.710000</td>\n",
       "      <td>3.230000</td>\n",
       "      <td>3.300000</td>\n",
       "      <td>3.370000</td>\n",
       "      <td>0.140000</td>\n",
       "      <td>0.147673</td>\n",
       "      <td>0.080910</td>\n",
       "    </tr>\n",
       "    <tr>\n",
       "      <th>sulphates</th>\n",
       "      <td>0.598390</td>\n",
       "      <td>0.595000</td>\n",
       "      <td>0.59</td>\n",
       "      <td>0.100819</td>\n",
       "      <td>0.010164</td>\n",
       "      <td>0.670000</td>\n",
       "      <td>0.290000</td>\n",
       "      <td>0.960000</td>\n",
       "      <td>0.530000</td>\n",
       "      <td>0.595000</td>\n",
       "      <td>0.670000</td>\n",
       "      <td>0.140000</td>\n",
       "      <td>0.149199</td>\n",
       "      <td>0.064819</td>\n",
       "    </tr>\n",
       "    <tr>\n",
       "      <th>alcohol</th>\n",
       "      <td>10.592280</td>\n",
       "      <td>10.610000</td>\n",
       "      <td>multivalue</td>\n",
       "      <td>1.510706</td>\n",
       "      <td>2.282233</td>\n",
       "      <td>8.990000</td>\n",
       "      <td>6.030000</td>\n",
       "      <td>15.020000</td>\n",
       "      <td>9.560000</td>\n",
       "      <td>10.610000</td>\n",
       "      <td>11.622500</td>\n",
       "      <td>2.062500</td>\n",
       "      <td>-0.018991</td>\n",
       "      <td>-0.131732</td>\n",
       "    </tr>\n",
       "    <tr>\n",
       "      <th>quality</th>\n",
       "      <td>7.958000</td>\n",
       "      <td>8.000000</td>\n",
       "      <td>8.0</td>\n",
       "      <td>0.902802</td>\n",
       "      <td>0.815051</td>\n",
       "      <td>5.000000</td>\n",
       "      <td>5.000000</td>\n",
       "      <td>10.000000</td>\n",
       "      <td>7.000000</td>\n",
       "      <td>8.000000</td>\n",
       "      <td>9.000000</td>\n",
       "      <td>2.000000</td>\n",
       "      <td>-0.089054</td>\n",
       "      <td>0.108291</td>\n",
       "    </tr>\n",
       "  </tbody>\n",
       "</table>\n",
       "</div>"
      ],
      "text/plain": [
       "                           Mean     Median       Modus       STD        Var  \\\n",
       "fixed acidity          7.152530   7.150000        6.54  1.201598   1.443837   \n",
       "volatile acidity       0.520838   0.524850      0.5546  0.095848   0.009187   \n",
       "citric acid            0.270517   0.272200      0.3019  0.049098   0.002411   \n",
       "residual sugar         2.567104   2.519430  multivalue  0.987915   0.975977   \n",
       "chlorides              0.081195   0.082167  multivalue  0.020111   0.000404   \n",
       "free sulfur dioxide   14.907679  14.860346  multivalue  4.888100  23.893519   \n",
       "total sulfur dioxide  40.290150  40.190000  multivalue  9.965767  99.316519   \n",
       "density                0.995925   0.996000  multivalue  0.002020   0.000004   \n",
       "pH                     3.303610   3.300000        3.34  0.104875   0.010999   \n",
       "sulphates              0.598390   0.595000        0.59  0.100819   0.010164   \n",
       "alcohol               10.592280  10.610000  multivalue  1.510706   2.282233   \n",
       "quality                7.958000   8.000000         8.0  0.902802   0.815051   \n",
       "\n",
       "                          Range       Min        Max         Q1         Q2  \\\n",
       "fixed acidity          8.170000  3.320000  11.490000   6.377500   7.150000   \n",
       "volatile acidity       0.665200  0.139900   0.805100   0.456100   0.524850   \n",
       "citric acid            0.292900  0.116700   0.409600   0.237800   0.272200   \n",
       "residual sugar         5.518200  0.032555   5.550755   1.896330   2.519430   \n",
       "chlorides              0.125635  0.015122   0.140758   0.066574   0.082167   \n",
       "free sulfur dioxide   27.267847  0.194679  27.462525  11.426717  14.860346   \n",
       "total sulfur dioxide  66.810000  3.150000  69.960000  33.785000  40.190000   \n",
       "density                0.013800  0.988800   1.002600   0.994600   0.996000   \n",
       "pH                     0.740000  2.970000   3.710000   3.230000   3.300000   \n",
       "sulphates              0.670000  0.290000   0.960000   0.530000   0.595000   \n",
       "alcohol                8.990000  6.030000  15.020000   9.560000  10.610000   \n",
       "quality                5.000000  5.000000  10.000000   7.000000   8.000000   \n",
       "\n",
       "                             Q3        IQR      Skew      Kurt  \n",
       "fixed acidity          8.000000   1.622500 -0.028879 -0.019292  \n",
       "volatile acidity       0.585375   0.129275 -0.197699  0.161853  \n",
       "citric acid            0.302325   0.064525 -0.045576 -0.104679  \n",
       "residual sugar         3.220873   1.324544  0.132638 -0.042980  \n",
       "chlorides              0.095312   0.028738 -0.051319 -0.246508  \n",
       "free sulfur dioxide   18.313098   6.886381  0.007130 -0.364964  \n",
       "total sulfur dioxide  47.022500  13.237500 -0.024060  0.063950  \n",
       "density                0.997200   0.002600 -0.076883  0.016366  \n",
       "pH                     3.370000   0.140000  0.147673  0.080910  \n",
       "sulphates              0.670000   0.140000  0.149199  0.064819  \n",
       "alcohol               11.622500   2.062500 -0.018991 -0.131732  \n",
       "quality                9.000000   2.000000 -0.089054  0.108291  "
      ]
     },
     "metadata": {},
     "output_type": "display_data"
    }
   ],
   "source": [
    "display(Markdown(\"#### Hasil Akhir <br> <br> Mean, Median, Modus, Standar Deviasi, Variansi, Range, Minimum, Maximum, Kuartil, Skewness, dan Kurtosis\"))\n",
    "\n",
    "new_cols = ['Mean', 'Median', 'Modus', 'STD', 'Var', 'Range', 'Min',\n",
    "            'Max', 'Q1', 'Q2', 'Q3', 'IQR', 'Skew', 'Kurt']\n",
    "\n",
    "stat[\"Modus\"] = modus_filtered\n",
    "\n",
    "stat = stat.reindex(columns=new_cols)\n",
    "display(stat)"
   ]
  },
  {
   "cell_type": "markdown",
   "metadata": {},
   "source": [
    "## 2. Visualisasi plot distribusi setiap kolom numerik."
   ]
  },
  {
   "cell_type": "code",
   "execution_count": 7,
   "metadata": {},
   "outputs": [],
   "source": [
    "def visualize_col(col):\n",
    "    f, [ax1, ax2] = plt.subplots(1,2,figsize=(13,5))\n",
    "    f.tight_layout()\n",
    "    f.set_facecolor('white')\n",
    "\n",
    "    ax1.hist(df[col])\n",
    "    ax1.set(title='Histogram Kolom ' + col, xlabel = col, ylabel='frekuensi')\n",
    "    ax1.grid()\n",
    "\n",
    "    ax2.boxplot(df[col], showmeans=True)\n",
    "    ax2.set(title='Boxplot Kolom ' + col, ylabel='frekuensi')\n",
    "    ax2.grid()\n",
    "    \n",
    "    f.subplots_adjust(wspace=0.2)\n",
    "\n",
    "    plt.show()"
   ]
  },
  {
   "cell_type": "code",
   "execution_count": 8,
   "metadata": {},
   "outputs": [
    {
     "data": {
      "image/png": "[encoded data removed]",
      "text/plain": [
       "<Figure size 936x360 with 2 Axes>"
      ]
     },
     "metadata": {},
     "output_type": "display_data"
    }
   ],
   "source": [
    "visualize_col('fixed acidity')"
   ]
  },
  {
   "cell_type": "markdown",
   "metadata": {},
   "source": [
    "Berdasarkan histogram yang terbentuk, terlihat bahwa diagram terdistribusi secara normal (_bell shaped_) dan tidak condong ke kiri maupun ke kanan (_no skew_). Berdasarkan boxplot yang terbentuk, terlihat bahwa rentang antara titik maksimum dan titik minimum cukup kecil serta terdapat beberapa *outlier* yang lebih besar dari titik maksimum atau lebih kecil dari titik minimum."
   ]
  },
  {
   "cell_type": "code",
   "execution_count": 9,
   "metadata": {},
   "outputs": [
    {
     "data": {
      "image/png": "[encoded data removed]",
      "text/plain": [
       "<Figure size 936x360 with 2 Axes>"
      ]
     },
     "metadata": {},
     "output_type": "display_data"
    }
   ],
   "source": [
    "visualize_col('volatile acidity')"
   ]
  },
  {
   "cell_type": "markdown",
   "metadata": {},
   "source": [
    "Berdasarkan histogram yang terbentuk, terlihat bahwa diagram terdistribusi secara normal (_bell shaped_) dan sedikit condong ke kiri (_negatively skewed_). Berdasarkan boxplot yang terbentuk, terlihat bahwa rentang antara titik maksimum dan titik minimum sangat kecil serta terdapat sebuah *outlier* yang lebih besar dari titik maksimum dan beberapa *outlier* yang lebih kecil dari titik minimum."
   ]
  },
  {
   "cell_type": "code",
   "execution_count": 10,
   "metadata": {},
   "outputs": [
    {
     "data": {
      "image/png": "[encoded data removed]",
      "text/plain": [
       "<Figure size 936x360 with 2 Axes>"
      ]
     },
     "metadata": {},
     "output_type": "display_data"
    }
   ],
   "source": [
    "visualize_col('citric acid')"
   ]
  },
  {
   "cell_type": "markdown",
   "metadata": {},
   "source": [
    "Berdasarkan histogram yang terbentuk, terlihat bahwa diagram terdistribusi secara normal (_bell shaped_) dan tidak condong ke kiri maupun ke kanan (_no skew_). Berdasarkan boxplot yang terbentuk, terlihat bahwa rentang antara titik maksimum dan titik minimum sangat kecil serta terdapat beberapa *outlier* yang lebih besar dari titik maksimum atau lebih kecil dari titik minimum."
   ]
  },
  {
   "cell_type": "code",
   "execution_count": 11,
   "metadata": {},
   "outputs": [
    {
     "data": {
      "image/png": "[encoded data removed]",
      "text/plain": [
       "<Figure size 936x360 with 2 Axes>"
      ]
     },
     "metadata": {},
     "output_type": "display_data"
    }
   ],
   "source": [
    "visualize_col('residual sugar')"
   ]
  },
  {
   "cell_type": "markdown",
   "metadata": {},
   "source": [
    "Berdasarkan histogram yang terbentuk, terlihat bahwa diagram terdistribusi secara normal (_bell shaped_) dan sedikit condong ke kanan (_positively skewed_). Berdasarkan boxplot yang terbentuk, terlihat bahwa rentang antara titik maksimum dan titik minimum cukup kecil serta terdapat beberapa *outlier* yang lebih besar dari titik maksimum."
   ]
  },
  {
   "cell_type": "code",
   "execution_count": 12,
   "metadata": {},
   "outputs": [
    {
     "data": {
      "image/png": "[encoded data removed]",
      "text/plain": [
       "<Figure size 936x360 with 2 Axes>"
      ]
     },
     "metadata": {},
     "output_type": "display_data"
    }
   ],
   "source": [
    "visualize_col('chlorides')"
   ]
  },
  {
   "cell_type": "markdown",
   "metadata": {},
   "source": [
    "Berdasarkan histogram yang terbentuk, terlihat bahwa diagram terdistribusi secara normal (_bell shaped_) dan tidak condong ke kiri maupun ke kanan (_no skew_). Berdasarkan boxplot yang terbentuk, terlihat bahwa rentang antara titik maksimum dan titik minimum sangat kecil serta terdapat sebuah *outlier* yang lebih besar dari titik maksimum dan dua buah *outlier* yang lebih kecil dari titik minimum."
   ]
  },
  {
   "cell_type": "code",
   "execution_count": 13,
   "metadata": {},
   "outputs": [
    {
     "data": {
      "image/png": "[encoded data removed]",
      "text/plain": [
       "<Figure size 936x360 with 2 Axes>"
      ]
     },
     "metadata": {},
     "output_type": "display_data"
    }
   ],
   "source": [
    "visualize_col('free sulfur dioxide')"
   ]
  },
  {
   "cell_type": "markdown",
   "metadata": {},
   "source": [
    "Berdasarkan histogram yang terbentuk, terlihat bahwa diagram tidak terdistribusi secara normal (tidak _bell shaped_) dan tidak condong ke kiri maupun ke kanan (_no skew_). Berdasarkan boxplot yang terbentuk, terlihat bahwa rentang antara titik maksimum dan titik minimum cukup kecil serta terdapat beberapa *outlier* yang lebih kecil dari titik minimum."
   ]
  },
  {
   "cell_type": "code",
   "execution_count": 14,
   "metadata": {},
   "outputs": [
    {
     "data": {
      "image/png": "[encoded data removed]",
      "text/plain": [
       "<Figure size 936x360 with 2 Axes>"
      ]
     },
     "metadata": {},
     "output_type": "display_data"
    }
   ],
   "source": [
    "visualize_col('total sulfur dioxide')"
   ]
  },
  {
   "cell_type": "markdown",
   "metadata": {},
   "source": [
    "Berdasarkan histogram yang terbentuk, terlihat bahwa diagram terdistribusi secara normal (_bell shaped_) dan tidak condong ke kiri maupun ke kanan (_no skew_). Berdasarkan boxplot yang terbentuk, terlihat bahwa rentang antara titik maksimum dan titik minimum cukup besar serta terdapat beberapa *outlier* yang lebih besar dari titik maksimum atau lebih kecil dari titik minimum."
   ]
  },
  {
   "cell_type": "code",
   "execution_count": 15,
   "metadata": {},
   "outputs": [
    {
     "data": {
      "image/png": "[encoded data removed]",
      "text/plain": [
       "<Figure size 936x360 with 2 Axes>"
      ]
     },
     "metadata": {},
     "output_type": "display_data"
    }
   ],
   "source": [
    "visualize_col('density')"
   ]
  },
  {
   "cell_type": "markdown",
   "metadata": {},
   "source": [
    "Berdasarkan histogram yang terbentuk, terlihat bahwa diagram terdistribusi secara normal (_bell shaped_) dan tidak condong ke kiri maupun ke kanan (_no skew_). Berdasarkan boxplot yang terbentuk, terlihat bahwa rentang antara titik maksimum dan titik minimum cukup besar serta terdapat beberapa *outlier* yang lebih besar dari titik maksimum atau lebih kecil dari titik minimum."
   ]
  },
  {
   "cell_type": "code",
   "execution_count": 16,
   "metadata": {},
   "outputs": [
    {
     "data": {
      "image/png": "[encoded data removed]",
      "text/plain": [
       "<Figure size 936x360 with 2 Axes>"
      ]
     },
     "metadata": {},
     "output_type": "display_data"
    }
   ],
   "source": [
    "visualize_col('pH')"
   ]
  },
  {
   "cell_type": "markdown",
   "metadata": {},
   "source": [
    "Berdasarkan histogram yang terbentuk, terlihat bahwa diagram terdistribusi secara normal (_bell shaped_) dan sedikit condong ke kanan (_positively skewed_). Berdasarkan boxplot yang terbentuk, terlihat bahwa rentang antara titik maksimum dan titik minimum sangat kecil serta terdapat beberapa *outlier* yang lebih besar dari titik maksimum atau lebih kecil dari titik minimum."
   ]
  },
  {
   "cell_type": "code",
   "execution_count": 17,
   "metadata": {},
   "outputs": [
    {
     "data": {
      "image/png": "[encoded data removed]",
      "text/plain": [
       "<Figure size 936x360 with 2 Axes>"
      ]
     },
     "metadata": {},
     "output_type": "display_data"
    }
   ],
   "source": [
    "visualize_col('sulphates')"
   ]
  },
  {
   "cell_type": "markdown",
   "metadata": {},
   "source": [
    "Berdasarkan histogram yang terbentuk, terlihat bahwa diagram terdistribusi secara normal (_bell shaped_) dan sedikit condong ke kanan (_positively skewed_). Berdasarkan boxplot yang terbentuk, terlihat bahwa rentang antara titik maksimum dan titik minimum sangat kecil serta terdapat beberapa *outlier* yang lebih besar dari titik maksimum dan sebuah *outlier* yang lebih kecil dari titik minimum."
   ]
  },
  {
   "cell_type": "code",
   "execution_count": 18,
   "metadata": {},
   "outputs": [
    {
     "data": {
      "image/png": "[encoded data removed]",
      "text/plain": [
       "<Figure size 936x360 with 2 Axes>"
      ]
     },
     "metadata": {},
     "output_type": "display_data"
    }
   ],
   "source": [
    "visualize_col('alcohol')"
   ]
  },
  {
   "cell_type": "markdown",
   "metadata": {},
   "source": [
    "Berdasarkan histogram yang terbentuk, terlihat bahwa diagram terdistribusi secara normal (_bell shaped_) dan tidak condong ke kiri maupun ke kanan (_no skew_). Berdasarkan boxplot yang terbentuk, terlihat bahwa rentang antara titik maksimum dan titik minimum cukup kecil serta terdapat sebuah *outlier* yang lebih besar dari titik maksimum dan beberapa *outlier* yang lebih kecil dari titik minimum."
   ]
  },
  {
   "cell_type": "code",
   "execution_count": 19,
   "metadata": {},
   "outputs": [
    {
     "data": {
      "image/png": "[encoded data removed]",
      "text/plain": [
       "<Figure size 936x360 with 2 Axes>"
      ]
     },
     "metadata": {},
     "output_type": "display_data"
    }
   ],
   "source": [
    "visualize_col('quality')"
   ]
  },
  {
   "cell_type": "markdown",
   "metadata": {},
   "source": [
    "Berdasarkan histogram yang terbentuk, terlihat bahwa diagram tidak terdistribusi secara normal (tidak _bell shaped_) dan tidak condong ke kiri maupun ke kanan (_no skew_). Berdasarkan boxplot yang terbentuk, terlihat bahwa rentang antara titik maksimum dan titik minimum cukup kecil serta tidak terdapat *outlier*."
   ]
  },
  {
   "cell_type": "markdown",
   "metadata": {},
   "source": [
    "## 3. Normality Test Setiap Kolom Numerik."
   ]
  },
  {
   "cell_type": "code",
   "execution_count": 20,
   "metadata": {},
   "outputs": [],
   "source": [
    "def normality_test(col):\n",
    "    z, pval = stats.shapiro(df[col])\n",
    "    display(Markdown(\"Shapiro-Wilk Test\"))\n",
    "    display(Markdown(\"$p$ value = %.10f\" % (pval)))\n",
    "    if pval < 0.05:\n",
    "        display(Markdown(\"kolom %s TIDAK berdistribusi normal\" % (col)))\n",
    "    else:\n",
    "        display(Markdown(\"Kolom %s berdistribusi normal\" % (col)))\n",
    "    \n",
    "    plt.figure(facecolor='white', figsize=(7,5))\n",
    "    plt.hist(df[col], bins=50, density=True)\n",
    "    plt.title('Histogram Data ' + col)\n",
    "    plt.grid()\n",
    "\n",
    "\n",
    "    xmin, xmax = plt.xlim()\n",
    "    ymin, ymax = plt.ylim()\n",
    "    ymed = (ymin + ymax) / 2\n",
    "    mu, std = stats.norm.fit(df[col]) \n",
    "    x = np.linspace(xmin, xmax, 100)\n",
    "    p = stats.norm.pdf(x, mu, std)\n",
    "\n",
    "    plt.plot(x, p, 'k', linewidth=2)   \n",
    "\n",
    "    plt.show()"
   ]
  },
  {
   "cell_type": "code",
   "execution_count": 21,
   "metadata": {},
   "outputs": [
    {
     "data": {
      "text/markdown": [
       "Shapiro-Wilk Test"
      ],
      "text/plain": [
       "<IPython.core.display.Markdown object>"
      ]
     },
     "metadata": {},
     "output_type": "display_data"
    },
    {
     "data": {
      "text/markdown": [
       "$p$ value = 0.8934295774"
      ],
      "text/plain": [
       "<IPython.core.display.Markdown object>"
      ]
     },
     "metadata": {},
     "output_type": "display_data"
    },
    {
     "data": {
      "text/markdown": [
       "Kolom fixed acidity berdistribusi normal"
      ],
      "text/plain": [
       "<IPython.core.display.Markdown object>"
      ]
     },
     "metadata": {},
     "output_type": "display_data"
    },
    {
     "data": {
      "image/png": "[encoded data removed]",
      "text/plain": [
       "<Figure size 504x360 with 1 Axes>"
      ]
     },
     "metadata": {},
     "output_type": "display_data"
    }
   ],
   "source": [
    "normality_test('fixed acidity')"
   ]
  },
  {
   "cell_type": "code",
   "execution_count": 22,
   "metadata": {},
   "outputs": [
    {
     "data": {
      "text/markdown": [
       "Shapiro-Wilk Test"
      ],
      "text/plain": [
       "<IPython.core.display.Markdown object>"
      ]
     },
     "metadata": {},
     "output_type": "display_data"
    },
    {
     "data": {
      "text/markdown": [
       "$p$ value = 0.0599096417"
      ],
      "text/plain": [
       "<IPython.core.display.Markdown object>"
      ]
     },
     "metadata": {},
     "output_type": "display_data"
    },
    {
     "data": {
      "text/markdown": [
       "Kolom volatile acidity berdistribusi normal"
      ],
      "text/plain": [
       "<IPython.core.display.Markdown object>"
      ]
     },
     "metadata": {},
     "output_type": "display_data"
    },
    {
     "data": {
      "image/png": "[encoded data removed]",
      "text/plain": [
       "<Figure size 504x360 with 1 Axes>"
      ]
     },
     "metadata": {},
     "output_type": "display_data"
    }
   ],
   "source": [
    "normality_test('volatile acidity')"
   ]
  },
  {
   "cell_type": "code",
   "execution_count": 23,
   "metadata": {},
   "outputs": [
    {
     "data": {
      "text/markdown": [
       "Shapiro-Wilk Test"
      ],
      "text/plain": [
       "<IPython.core.display.Markdown object>"
      ]
     },
     "metadata": {},
     "output_type": "display_data"
    },
    {
     "data": {
      "text/markdown": [
       "$p$ value = 0.2650147676"
      ],
      "text/plain": [
       "<IPython.core.display.Markdown object>"
      ]
     },
     "metadata": {},
     "output_type": "display_data"
    },
    {
     "data": {
      "text/markdown": [
       "Kolom citric acid berdistribusi normal"
      ],
      "text/plain": [
       "<IPython.core.display.Markdown object>"
      ]
     },
     "metadata": {},
     "output_type": "display_data"
    },
    {
     "data": {
      "image/png": "[encoded data removed]",
      "text/plain": [
       "<Figure size 504x360 with 1 Axes>"
      ]
     },
     "metadata": {},
     "output_type": "display_data"
    }
   ],
   "source": [
    "normality_test('citric acid')"
   ]
  },
  {
   "cell_type": "code",
   "execution_count": 24,
   "metadata": {},
   "outputs": [
    {
     "data": {
      "text/markdown": [
       "Shapiro-Wilk Test"
      ],
      "text/plain": [
       "<IPython.core.display.Markdown object>"
      ]
     },
     "metadata": {},
     "output_type": "display_data"
    },
    {
     "data": {
      "text/markdown": [
       "$p$ value = 0.0448811054"
      ],
      "text/plain": [
       "<IPython.core.display.Markdown object>"
      ]
     },
     "metadata": {},
     "output_type": "display_data"
    },
    {
     "data": {
      "text/markdown": [
       "kolom residual sugar TIDAK berdistribusi normal"
      ],
      "text/plain": [
       "<IPython.core.display.Markdown object>"
      ]
     },
     "metadata": {},
     "output_type": "display_data"
    },
    {
     "data": {
      "image/png": "[encoded data removed]",
      "text/plain": [
       "<Figure size 504x360 with 1 Axes>"
      ]
     },
     "metadata": {},
     "output_type": "display_data"
    }
   ],
   "source": [
    "normality_test('residual sugar')"
   ]
  },
  {
   "cell_type": "code",
   "execution_count": 25,
   "metadata": {},
   "outputs": [
    {
     "data": {
      "text/markdown": [
       "Shapiro-Wilk Test"
      ],
      "text/plain": [
       "<IPython.core.display.Markdown object>"
      ]
     },
     "metadata": {},
     "output_type": "display_data"
    },
    {
     "data": {
      "text/markdown": [
       "$p$ value = 0.1740852594"
      ],
      "text/plain": [
       "<IPython.core.display.Markdown object>"
      ]
     },
     "metadata": {},
     "output_type": "display_data"
    },
    {
     "data": {
      "text/markdown": [
       "Kolom chlorides berdistribusi normal"
      ],
      "text/plain": [
       "<IPython.core.display.Markdown object>"
      ]
     },
     "metadata": {},
     "output_type": "display_data"
    },
    {
     "data": {
      "image/png": "[encoded data removed]",
      "text/plain": [
       "<Figure size 504x360 with 1 Axes>"
      ]
     },
     "metadata": {},
     "output_type": "display_data"
    }
   ],
   "source": [
    "normality_test('chlorides')"
   ]
  },
  {
   "cell_type": "code",
   "execution_count": 26,
   "metadata": {},
   "outputs": [
    {
     "data": {
      "text/markdown": [
       "Shapiro-Wilk Test"
      ],
      "text/plain": [
       "<IPython.core.display.Markdown object>"
      ]
     },
     "metadata": {},
     "output_type": "display_data"
    },
    {
     "data": {
      "text/markdown": [
       "$p$ value = 0.0425107852"
      ],
      "text/plain": [
       "<IPython.core.display.Markdown object>"
      ]
     },
     "metadata": {},
     "output_type": "display_data"
    },
    {
     "data": {
      "text/markdown": [
       "kolom free sulfur dioxide TIDAK berdistribusi normal"
      ],
      "text/plain": [
       "<IPython.core.display.Markdown object>"
      ]
     },
     "metadata": {},
     "output_type": "display_data"
    },
    {
     "data": {
      "image/png": "[encoded data removed]",
      "text/plain": [
       "<Figure size 504x360 with 1 Axes>"
      ]
     },
     "metadata": {},
     "output_type": "display_data"
    }
   ],
   "source": [
    "normality_test('free sulfur dioxide')"
   ]
  },
  {
   "cell_type": "code",
   "execution_count": 27,
   "metadata": {},
   "outputs": [
    {
     "data": {
      "text/markdown": [
       "Shapiro-Wilk Test"
      ],
      "text/plain": [
       "<IPython.core.display.Markdown object>"
      ]
     },
     "metadata": {},
     "output_type": "display_data"
    },
    {
     "data": {
      "text/markdown": [
       "$p$ value = 0.5371171832"
      ],
      "text/plain": [
       "<IPython.core.display.Markdown object>"
      ]
     },
     "metadata": {},
     "output_type": "display_data"
    },
    {
     "data": {
      "text/markdown": [
       "Kolom total sulfur dioxide berdistribusi normal"
      ],
      "text/plain": [
       "<IPython.core.display.Markdown object>"
      ]
     },
     "metadata": {},
     "output_type": "display_data"
    },
    {
     "data": {
      "image/png": "[encoded data removed]",
      "text/plain": [
       "<Figure size 504x360 with 1 Axes>"
      ]
     },
     "metadata": {},
     "output_type": "display_data"
    }
   ],
   "source": [
    "normality_test('total sulfur dioxide')"
   ]
  },
  {
   "cell_type": "code",
   "execution_count": 28,
   "metadata": {},
   "outputs": [
    {
     "data": {
      "text/markdown": [
       "Shapiro-Wilk Test"
      ],
      "text/plain": [
       "<IPython.core.display.Markdown object>"
      ]
     },
     "metadata": {},
     "output_type": "display_data"
    },
    {
     "data": {
      "text/markdown": [
       "$p$ value = 0.8527566791"
      ],
      "text/plain": [
       "<IPython.core.display.Markdown object>"
      ]
     },
     "metadata": {},
     "output_type": "display_data"
    },
    {
     "data": {
      "text/markdown": [
       "Kolom density berdistribusi normal"
      ],
      "text/plain": [
       "<IPython.core.display.Markdown object>"
      ]
     },
     "metadata": {},
     "output_type": "display_data"
    },
    {
     "data": {
      "image/png": "[encoded data removed]",
      "text/plain": [
       "<Figure size 504x360 with 1 Axes>"
      ]
     },
     "metadata": {},
     "output_type": "display_data"
    }
   ],
   "source": [
    "normality_test('density')"
   ]
  },
  {
   "cell_type": "code",
   "execution_count": 29,
   "metadata": {},
   "outputs": [
    {
     "data": {
      "text/markdown": [
       "Shapiro-Wilk Test"
      ],
      "text/plain": [
       "<IPython.core.display.Markdown object>"
      ]
     },
     "metadata": {},
     "output_type": "display_data"
    },
    {
     "data": {
      "text/markdown": [
       "$p$ value = 0.1374632716"
      ],
      "text/plain": [
       "<IPython.core.display.Markdown object>"
      ]
     },
     "metadata": {},
     "output_type": "display_data"
    },
    {
     "data": {
      "text/markdown": [
       "Kolom pH berdistribusi normal"
      ],
      "text/plain": [
       "<IPython.core.display.Markdown object>"
      ]
     },
     "metadata": {},
     "output_type": "display_data"
    },
    {
     "data": {
      "image/png": "[encoded data removed]",
      "text/plain": [
       "<Figure size 504x360 with 1 Axes>"
      ]
     },
     "metadata": {},
     "output_type": "display_data"
    }
   ],
   "source": [
    "normality_test('pH')"
   ]
  },
  {
   "cell_type": "code",
   "execution_count": 30,
   "metadata": {},
   "outputs": [
    {
     "data": {
      "text/markdown": [
       "Shapiro-Wilk Test"
      ],
      "text/plain": [
       "<IPython.core.display.Markdown object>"
      ]
     },
     "metadata": {},
     "output_type": "display_data"
    },
    {
     "data": {
      "text/markdown": [
       "$p$ value = 0.1128375456"
      ],
      "text/plain": [
       "<IPython.core.display.Markdown object>"
      ]
     },
     "metadata": {},
     "output_type": "display_data"
    },
    {
     "data": {
      "text/markdown": [
       "Kolom sulphates berdistribusi normal"
      ],
      "text/plain": [
       "<IPython.core.display.Markdown object>"
      ]
     },
     "metadata": {},
     "output_type": "display_data"
    },
    {
     "data": {
      "image/png": "[encoded data removed]",
      "text/plain": [
       "<Figure size 504x360 with 1 Axes>"
      ]
     },
     "metadata": {},
     "output_type": "display_data"
    }
   ],
   "source": [
    "normality_test('sulphates')"
   ]
  },
  {
   "cell_type": "code",
   "execution_count": 31,
   "metadata": {},
   "outputs": [
    {
     "data": {
      "text/markdown": [
       "Shapiro-Wilk Test"
      ],
      "text/plain": [
       "<IPython.core.display.Markdown object>"
      ]
     },
     "metadata": {},
     "output_type": "display_data"
    },
    {
     "data": {
      "text/markdown": [
       "$p$ value = 0.5195288062"
      ],
      "text/plain": [
       "<IPython.core.display.Markdown object>"
      ]
     },
     "metadata": {},
     "output_type": "display_data"
    },
    {
     "data": {
      "text/markdown": [
       "Kolom alcohol berdistribusi normal"
      ],
      "text/plain": [
       "<IPython.core.display.Markdown object>"
      ]
     },
     "metadata": {},
     "output_type": "display_data"
    },
    {
     "data": {
      "image/png": "[encoded data removed]",
      "text/plain": [
       "<Figure size 504x360 with 1 Axes>"
      ]
     },
     "metadata": {},
     "output_type": "display_data"
    }
   ],
   "source": [
    "normality_test('alcohol')"
   ]
  },
  {
   "cell_type": "code",
   "execution_count": 32,
   "metadata": {},
   "outputs": [
    {
     "data": {
      "text/markdown": [
       "Shapiro-Wilk Test"
      ],
      "text/plain": [
       "<IPython.core.display.Markdown object>"
      ]
     },
     "metadata": {},
     "output_type": "display_data"
    },
    {
     "data": {
      "text/markdown": [
       "$p$ value = 0.0000000000"
      ],
      "text/plain": [
       "<IPython.core.display.Markdown object>"
      ]
     },
     "metadata": {},
     "output_type": "display_data"
    },
    {
     "data": {
      "text/markdown": [
       "kolom quality TIDAK berdistribusi normal"
      ],
      "text/plain": [
       "<IPython.core.display.Markdown object>"
      ]
     },
     "metadata": {},
     "output_type": "display_data"
    },
    {
     "data": {
      "image/png": "[encoded data removed]",
      "text/plain": [
       "<Figure size 504x360 with 1 Axes>"
      ]
     },
     "metadata": {},
     "output_type": "display_data"
    }
   ],
   "source": [
    "normality_test('quality')"
   ]
  },
  {
   "cell_type": "markdown",
   "metadata": {},
   "source": [
    "## 4. Melakukan test hipotesis 1 sampel"
   ]
  },
  {
   "cell_type": "markdown",
   "metadata": {},
   "source": [
    "### a. Nilai rata-rata pH di atas 3.29?"
   ]
  },
  {
   "cell_type": "markdown",
   "metadata": {},
   "source": [
    "$H_0$: Nilai rata-rata pH sama dengan 3.29 ($μ = 3.29$)\n",
    "\n",
    "$H_1$: Nilai rata-rata pH lebih dari 3.29 ($μ > 3.29$)\n",
    "\n",
    "Tingkat Signifikan: $\\alpha = 0.05$\n",
    "\n",
    "Uji Statistik: Single Sample Right Tailed Z Test dengan *Critical Section* $z > z_{\\alpha}$\n",
    "\n",
    "Rumus perhitungan nilai $z$ :\n",
    "\n",
    "$$ z = \\frac{\\bar{x} - μ_{0}} {\\sigma/\\sqrt{n}} $$\n",
    "\n",
    "Jika $z$ berada pada *critical section* ($z > z_{\\alpha}$), maka nilai $p < \\alpha$ dan $H_0$ ditolak\n",
    "\n",
    "Jika $z$ tidak berada pada *critical section* ($z ≤ z_{\\alpha}$), maka nilai $p ≥ \\alpha$ dan $H_0$ tidak ditolak"
   ]
  },
  {
   "cell_type": "code",
   "execution_count": 33,
   "metadata": {},
   "outputs": [
    {
     "data": {
      "image/png": "[encoded data removed]",
      "text/plain": [
       "<Figure size 432x288 with 1 Axes>"
      ]
     },
     "metadata": {
      "needs_background": "light"
     },
     "output_type": "display_data"
    }
   ],
   "source": [
    "df[\"pH\"].plot(kind=\"box\")\n",
    "plt.show()"
   ]
  },
  {
   "cell_type": "code",
   "execution_count": 34,
   "metadata": {},
   "outputs": [
    {
     "data": {
      "text/markdown": [
       "Didapat nilai $z = 4.10378$ dan $p = 2e-05 $"
      ],
      "text/plain": [
       "<IPython.core.display.Markdown object>"
      ]
     },
     "metadata": {},
     "output_type": "display_data"
    },
    {
     "data": {
      "text/markdown": [
       "Didapat nilai $z_\\alpha = 1.64485$"
      ],
      "text/plain": [
       "<IPython.core.display.Markdown object>"
      ]
     },
     "metadata": {},
     "output_type": "display_data"
    },
    {
     "data": {
      "text/markdown": [
       "Hasil Keputusan: "
      ],
      "text/plain": [
       "<IPython.core.display.Markdown object>"
      ]
     },
     "metadata": {},
     "output_type": "display_data"
    },
    {
     "data": {
      "text/markdown": [
       "Tolak $H_0$ karena $z$ berada pada *critical section* $z > z_\\alpha (4.10378 > 1.64485$)"
      ],
      "text/plain": [
       "<IPython.core.display.Markdown object>"
      ]
     },
     "metadata": {},
     "output_type": "display_data"
    },
    {
     "data": {
      "text/markdown": [
       "Tes Signifikan: "
      ],
      "text/plain": [
       "<IPython.core.display.Markdown object>"
      ]
     },
     "metadata": {},
     "output_type": "display_data"
    },
    {
     "data": {
      "text/markdown": [
       "Tolak $H_0$ karena $p$ lebih kecil dari tingkat signifikan yang diinginikan $p < \\alpha  (2e-05 < 0.05$)"
      ],
      "text/plain": [
       "<IPython.core.display.Markdown object>"
      ]
     },
     "metadata": {},
     "output_type": "display_data"
    },
    {
     "data": {
      "text/markdown": [
       "Sehingga, nilai rata-rata pH lebih dari $3.29$"
      ],
      "text/plain": [
       "<IPython.core.display.Markdown object>"
      ]
     },
     "metadata": {},
     "output_type": "display_data"
    }
   ],
   "source": [
    "miu_0 = 3.29\n",
    "alpha = 0.05\n",
    "\n",
    "z, p = ztest(df[\"pH\"], value = miu_0, alternative = \"larger\")\n",
    "display(Markdown(f\"Didapat nilai $z = {round(z, 5)}$ dan $p = {round(p, 5)} $\"))\n",
    "\n",
    "z_alpha = stats.norm.ppf(1 - alpha)\n",
    "display(Markdown(f\"Didapat nilai $z_\\\\alpha = {round(z_alpha, 5)}$\"))\n",
    "\n",
    "display(Markdown(\"Hasil Keputusan: \"))\n",
    "\n",
    "if z > z_alpha:\n",
    "    display(Markdown(f\"Tolak $H_0$ karena $z$ berada pada *critical section* $z > z_\\\\alpha ({round(z, 5)} > {round(z_alpha, 5)}$)\"))\n",
    "else:\n",
    "    display(Markdown(f\"Tidak tolak $H_0$ karena $z$ tidak berada pada *critical section* $z ≤ z_\\\\alpha ({round(z, 5)} ≤ {round(z_alpha, 5)}$)\"))\n",
    "    \n",
    "display(Markdown(\"Tes Signifikan: \"))\n",
    "\n",
    "if p < alpha:\n",
    "    display(Markdown(f\"Tolak $H_0$ karena $p$ lebih kecil dari tingkat signifikan yang diinginikan $p < \\\\alpha  ({round(p, 5)} < {alpha}$)\"))\n",
    "    display(Markdown(f\"Sehingga, nilai rata-rata pH lebih dari ${miu_0}$\"))\n",
    "else:\n",
    "    display(Markdown(f\"Tidak tolak $H_0$ karena $p$ lebih besar atau sama dengan dari tingkat signifikan yang diinginikan $p ≥ \\\\alpha ({round(p, 5)} ≥ {alpha}$)\"))\n",
    "    display(Markdown(f\"Sehingga, nilai rata-rata pH sama dengan ${miu_0}$\"))\n"
   ]
  },
  {
   "cell_type": "markdown",
   "metadata": {},
   "source": [
    "### b. Nilai rata-rata Residual Sugar tidak sama dengan 2.50?"
   ]
  },
  {
   "cell_type": "markdown",
   "metadata": {},
   "source": [
    "$H_0$: Nilai rata-rata Residual Sugar sama dengan 2.50 ($μ = 2.50$)\n",
    "\n",
    "$H_1$: Nilai rata-rata Residual Sugar tidak sama dengan 2.50 ($μ ≠ 2.50$)\n",
    "\n",
    "Tingkat Signifikan: $\\alpha = 0.05$\n",
    "\n",
    "Uji Statistik: Single Sample Two Tailed Z Test dengan *Critical Section* $z < -z_{\\alpha/2}$ atau $z > z_{\\alpha/2}$\n",
    "\n",
    "Rumus perhitungan nilai $z$ :\n",
    "\n",
    "$$ z = \\frac{\\bar{x} - μ_{0}} {\\sigma/\\sqrt{n}} $$\n",
    "\n",
    "Jika $z$ berada pada *critical section* ($z < -z_{\\alpha/2}$ atau $z > z_{\\alpha/2}$), maka nilai $p < \\alpha$ dan $H_0$ ditolak\n",
    "\n",
    "Jika $z$ tidak berada pada *critical section* ($-z_{\\alpha/2} ≤ z ≤ z_{\\alpha/2}$), maka nilai $p ≥ \\alpha$ dan $H_0$ tidak ditolak"
   ]
  },
  {
   "cell_type": "code",
   "execution_count": 35,
   "metadata": {},
   "outputs": [
    {
     "data": {
      "image/png": "[encoded data removed]",
      "text/plain": [
       "<Figure size 432x288 with 1 Axes>"
      ]
     },
     "metadata": {
      "needs_background": "light"
     },
     "output_type": "display_data"
    }
   ],
   "source": [
    "df[\"residual sugar\"].plot(kind=\"box\")\n",
    "plt.show()"
   ]
  },
  {
   "cell_type": "code",
   "execution_count": 36,
   "metadata": {},
   "outputs": [
    {
     "data": {
      "text/markdown": [
       "Didapat nilai $z = 2.14796$ dan $p = 0.03172 $"
      ],
      "text/plain": [
       "<IPython.core.display.Markdown object>"
      ]
     },
     "metadata": {},
     "output_type": "display_data"
    },
    {
     "data": {
      "text/markdown": [
       "Didapat nilai $z_{\\alpha/2} = 1.95996$"
      ],
      "text/plain": [
       "<IPython.core.display.Markdown object>"
      ]
     },
     "metadata": {},
     "output_type": "display_data"
    },
    {
     "data": {
      "text/markdown": [
       "Hasil Keputusan: "
      ],
      "text/plain": [
       "<IPython.core.display.Markdown object>"
      ]
     },
     "metadata": {},
     "output_type": "display_data"
    },
    {
     "data": {
      "text/markdown": [
       "Tolak $H_0$ karena $z$ berada pada *critical section* $z < -z_{\\alpha/2}$ atau $z > z_{\\alpha/2}$ $(2.14796 < -1.95996$ atau $2.14796 > 1.95996)$"
      ],
      "text/plain": [
       "<IPython.core.display.Markdown object>"
      ]
     },
     "metadata": {},
     "output_type": "display_data"
    },
    {
     "data": {
      "text/markdown": [
       "Tes Signifikan: "
      ],
      "text/plain": [
       "<IPython.core.display.Markdown object>"
      ]
     },
     "metadata": {},
     "output_type": "display_data"
    },
    {
     "data": {
      "text/markdown": [
       "Tolak $H_0$ karena $p$ lebih kecil dari tingkat signifikan yang diinginikan $p < \\alpha  (0.03172 < 0.05$)"
      ],
      "text/plain": [
       "<IPython.core.display.Markdown object>"
      ]
     },
     "metadata": {},
     "output_type": "display_data"
    },
    {
     "data": {
      "text/markdown": [
       "Sehingga, nilai rata-rata Residual Sugar tidak sama dengan $2.5$"
      ],
      "text/plain": [
       "<IPython.core.display.Markdown object>"
      ]
     },
     "metadata": {},
     "output_type": "display_data"
    }
   ],
   "source": [
    "miu_0 = 2.50\n",
    "alpha = 0.05\n",
    "\n",
    "z, p = ztest(df[\"residual sugar\"], value = miu_0, alternative = \"two-sided\")\n",
    "display(Markdown(f\"Didapat nilai $z = {round(z, 5)}$ dan $p = {round(p, 5)} $\"))\n",
    "\n",
    "z_half_alpha = stats.norm.ppf(1 - alpha / 2)\n",
    "display(Markdown(f\"Didapat nilai $z_{{\\\\alpha/2}} = {round(z_half_alpha, 5)}$\"))\n",
    "\n",
    "display(Markdown(\"Hasil Keputusan: \"))\n",
    "\n",
    "if z < -z_half_alpha or z > z_half_alpha:\n",
    "    display(Markdown(f\"Tolak $H_0$ karena $z$ berada pada *critical section* $z < -z_{{\\\\alpha/2}}$ atau $z > z_{{\\\\alpha/2}}$ $({round(z, 5)} < -{round(z_half_alpha, 5)}$ atau ${round(z, 5)} > {round(z_half_alpha, 5)})$\"))\n",
    "else:\n",
    "    display(Markdown(f\"Tidak tolak $H_0$ karena $z$ tidak berada pada *critical section* $-z_{{\\\\alpha/2}} ≤ z ≤ z_{{\\\\alpha/2}}$ $(-{round(z_half_alpha, 5)} ≤ {round(z, 5)} ≤ {round(z_half_alpha, 5)}$)\"))\n",
    "    \n",
    "display(Markdown(\"Tes Signifikan: \"))\n",
    "\n",
    "if p < alpha:\n",
    "    display(Markdown(f\"Tolak $H_0$ karena $p$ lebih kecil dari tingkat signifikan yang diinginikan $p < \\\\alpha  ({round(p, 5)} < {alpha}$)\"))\n",
    "    display(Markdown(f\"Sehingga, nilai rata-rata Residual Sugar tidak sama dengan ${miu_0}$\"))\n",
    "else:\n",
    "    display(Markdown(f\"Tidak tolak $H_0$ karena $p$ lebih besar atau sama dengan dari tingkat signifikan yang diinginikan $p ≥ \\\\alpha ({round(p, 5)} ≥ {alpha}$)\"))\n",
    "    display(Markdown(f\"Sehingga, nilai rata-rata Residual Sugar sama dengan ${miu_0}$\"))"
   ]
  },
  {
   "cell_type": "markdown",
   "metadata": {},
   "source": [
    "### c. Nilai rata-rata 150 baris pertama kolom sulphates bukan 0.65?"
   ]
  },
  {
   "cell_type": "markdown",
   "metadata": {},
   "source": [
    "$H_0$: Nilai rata-rata sulphates sama dengan 0.65 ($μ = 0.65$)\n",
    "\n",
    "$H_1$: Nilai rata-rata Residual Sugar tidak sama dengan 0.65 ($μ ≠ 0.65$)\n",
    "\n",
    "Tingkat Signifikan: $\\alpha = 0.05$\n",
    "\n",
    "Uji Statistik: Single Sample Two Tailed Z Test dengan *Critical Section* $z < -z_{\\alpha/2}$ atau $z > z_{\\alpha/2}$\n",
    "\n",
    "Rumus perhitungan nilai $z$ :\n",
    "\n",
    "$$ z = \\frac{\\bar{x} - μ_{0}} {\\sigma/\\sqrt{n}} $$\n",
    "\n",
    "Jika $z$ berada pada *critical section* ($z < -z_{\\alpha/2}$ atau $z > z_{\\alpha/2}$), maka nilai $p < \\alpha$ dan $H_0$ ditolak\n",
    "\n",
    "Jika $z$ tidak berada pada *critical section* ($-z_{\\alpha/2} ≤ z ≤ z_{\\alpha/2}$), maka nilai $p ≥ \\alpha$ dan $H_0$ tidak ditolak"
   ]
  },
  {
   "cell_type": "code",
   "execution_count": 37,
   "metadata": {},
   "outputs": [
    {
     "data": {
      "image/png": "[encoded data removed]",
      "text/plain": [
       "<Figure size 432x288 with 1 Axes>"
      ]
     },
     "metadata": {
      "needs_background": "light"
     },
     "output_type": "display_data"
    }
   ],
   "source": [
    "df[\"sulphates\"].head(150).plot(kind=\"box\")\n",
    "plt.show()"
   ]
  },
  {
   "cell_type": "code",
   "execution_count": 38,
   "metadata": {},
   "outputs": [
    {
     "data": {
      "text/markdown": [
       "Didapat nilai $z = -4.96484$ dan $p = 0.0 $"
      ],
      "text/plain": [
       "<IPython.core.display.Markdown object>"
      ]
     },
     "metadata": {},
     "output_type": "display_data"
    },
    {
     "data": {
      "text/markdown": [
       "Didapat nilai $z_{\\alpha/2} = 1.95996$"
      ],
      "text/plain": [
       "<IPython.core.display.Markdown object>"
      ]
     },
     "metadata": {},
     "output_type": "display_data"
    },
    {
     "data": {
      "text/markdown": [
       "Hasil Keputusan: "
      ],
      "text/plain": [
       "<IPython.core.display.Markdown object>"
      ]
     },
     "metadata": {},
     "output_type": "display_data"
    },
    {
     "data": {
      "text/markdown": [
       "Tolak $H_0$ karena $z$ berada pada *critical section* $z < -z_{\\alpha/2}$ atau $z > z_{\\alpha/2}$ $(-4.96484 < -1.95996$ atau $-4.96484 > 1.95996)$"
      ],
      "text/plain": [
       "<IPython.core.display.Markdown object>"
      ]
     },
     "metadata": {},
     "output_type": "display_data"
    },
    {
     "data": {
      "text/markdown": [
       "Tes Signifikan: "
      ],
      "text/plain": [
       "<IPython.core.display.Markdown object>"
      ]
     },
     "metadata": {},
     "output_type": "display_data"
    },
    {
     "data": {
      "text/markdown": [
       "Tolak $H_0$ karena $p$ lebih kecil dari tingkat signifikan yang diinginikan $p < \\alpha  (0.0 < 0.05$)"
      ],
      "text/plain": [
       "<IPython.core.display.Markdown object>"
      ]
     },
     "metadata": {},
     "output_type": "display_data"
    },
    {
     "data": {
      "text/markdown": [
       "Sehingga, nilai rata-rata 150 baris pertama kolom sulphates tidak sama dengan $0.65$"
      ],
      "text/plain": [
       "<IPython.core.display.Markdown object>"
      ]
     },
     "metadata": {},
     "output_type": "display_data"
    }
   ],
   "source": [
    "miu_0 = 0.65\n",
    "alpha = 0.05\n",
    "\n",
    "z, p = ztest(df[\"sulphates\"].head(150), value = miu_0, alternative = \"two-sided\")\n",
    "display(Markdown(f\"Didapat nilai $z = {round(z, 5)}$ dan $p = {round(p, 5)} $\"))\n",
    "\n",
    "z_half_alpha = stats.norm.ppf(1 - alpha / 2)\n",
    "display(Markdown(f\"Didapat nilai $z_{{\\\\alpha/2}} = {round(z_half_alpha, 5)}$\"))\n",
    "\n",
    "display(Markdown(\"Hasil Keputusan: \"))\n",
    "\n",
    "if z < -z_half_alpha or z > z_half_alpha:\n",
    "    display(Markdown(f\"Tolak $H_0$ karena $z$ berada pada *critical section* $z < -z_{{\\\\alpha/2}}$ atau $z > z_{{\\\\alpha/2}}$ $({round(z, 5)} < -{round(z_half_alpha, 5)}$ atau ${round(z, 5)} > {round(z_half_alpha, 5)})$\"))\n",
    "else:\n",
    "    display(Markdown(f\"Tidak tolak $H_0$ karena $z$ tidak berada pada *critical section* $-z_{{\\\\alpha/2}} ≤ z ≤ z_{{\\\\alpha/2}}$ $(-{round(z_half_alpha, 5)} ≤ {round(z, 5)} ≤ {round(z_half_alpha, 5)}$)\"))\n",
    "    \n",
    "display(Markdown(\"Tes Signifikan: \"))\n",
    "\n",
    "if p < alpha:\n",
    "    display(Markdown(f\"Tolak $H_0$ karena $p$ lebih kecil dari tingkat signifikan yang diinginikan $p < \\\\alpha  ({round(p, 5)} < {alpha}$)\"))\n",
    "    display(Markdown(f\"Sehingga, nilai rata-rata 150 baris pertama kolom sulphates tidak sama dengan ${miu_0}$\"))\n",
    "else:\n",
    "    display(Markdown(f\"Tidak tolak $H_0$ karena $p$ lebih besar atau sama dengan dari tingkat signifikan yang diinginikan $p ≥ \\\\alpha ({round(p, 5)} ≥ {alpha}$)\"))\n",
    "    display(Markdown(f\"Sehingga, nilai rata-rata 150 baris pertama kolom sulphates sama dengan ${miu_0}$\"))"
   ]
  },
  {
   "cell_type": "markdown",
   "metadata": {},
   "source": [
    "### d. Nilai rata-rata total sulfur dioxide di bawah 35?"
   ]
  },
  {
   "cell_type": "markdown",
   "metadata": {},
   "source": [
    "$H_0$: Nilai rata-rata total sulfur dioxide sama dengan 35 ($μ = 35$)\n",
    "\n",
    "$H_1$: Nilai rata-rata total sulfur dioxide kurang dari 35 ($μ < 35$)\n",
    "\n",
    "Tingkat Signifikan: $\\alpha = 0.05$\n",
    "\n",
    "Uji Statistik: Single Sample Left Tailed Z Test dengan *Critical Section* $z < z_{\\alpha}$\n",
    "\n",
    "Rumus perhitungan nilai $z$ :\n",
    "\n",
    "$$ z = \\frac{\\bar{x} - μ_{0}} {\\sigma/\\sqrt{n}} $$\n",
    "\n",
    "Jika $z$ berada pada *critical section* ($z < z_{\\alpha}$), maka nilai $p < \\alpha$ dan $H_0$ ditolak\n",
    "\n",
    "Jika $z$ tidak berada pada *critical section* ($z ≥ z_{\\alpha}$), maka nilai $p ≥ \\alpha$ dan $H_0$ tidak ditolak"
   ]
  },
  {
   "cell_type": "code",
   "execution_count": 39,
   "metadata": {},
   "outputs": [
    {
     "data": {
      "image/png": "[encoded data removed]",
      "text/plain": [
       "<Figure size 432x288 with 1 Axes>"
      ]
     },
     "metadata": {
      "needs_background": "light"
     },
     "output_type": "display_data"
    }
   ],
   "source": [
    "df[\"total sulfur dioxide\"].plot(kind=\"box\")\n",
    "plt.show()"
   ]
  },
  {
   "cell_type": "code",
   "execution_count": 40,
   "metadata": {},
   "outputs": [
    {
     "data": {
      "text/markdown": [
       "Didapat nilai $z = 16.78639$ dan $p = 1.0 $"
      ],
      "text/plain": [
       "<IPython.core.display.Markdown object>"
      ]
     },
     "metadata": {},
     "output_type": "display_data"
    },
    {
     "data": {
      "text/markdown": [
       "Didapat nilai $z_\\alpha = 1.64485$"
      ],
      "text/plain": [
       "<IPython.core.display.Markdown object>"
      ]
     },
     "metadata": {},
     "output_type": "display_data"
    },
    {
     "data": {
      "text/markdown": [
       "Hasil Keputusan: "
      ],
      "text/plain": [
       "<IPython.core.display.Markdown object>"
      ]
     },
     "metadata": {},
     "output_type": "display_data"
    },
    {
     "data": {
      "text/markdown": [
       "Tidak tolak $H_0$ karena $z$ tidak berada pada *critical section* $z ≥ -z_\\alpha (16.78639 ≥ -1.64485$)"
      ],
      "text/plain": [
       "<IPython.core.display.Markdown object>"
      ]
     },
     "metadata": {},
     "output_type": "display_data"
    },
    {
     "data": {
      "text/markdown": [
       "Tes Signifikan: "
      ],
      "text/plain": [
       "<IPython.core.display.Markdown object>"
      ]
     },
     "metadata": {},
     "output_type": "display_data"
    },
    {
     "data": {
      "text/markdown": [
       "Tidak tolak $H_0$ karena $p$ lebih besar atau sama dengan dari tingkat signifikan yang diinginikan $p ≥ \\alpha (1.0 ≥ 0.05$)"
      ],
      "text/plain": [
       "<IPython.core.display.Markdown object>"
      ]
     },
     "metadata": {},
     "output_type": "display_data"
    },
    {
     "data": {
      "text/markdown": [
       "Sehingga, nilai rata-rata total sulfur dioxide sama dengan $35$"
      ],
      "text/plain": [
       "<IPython.core.display.Markdown object>"
      ]
     },
     "metadata": {},
     "output_type": "display_data"
    }
   ],
   "source": [
    "miu_0 = 35\n",
    "alpha = 0.05\n",
    "\n",
    "z, p = ztest(df[\"total sulfur dioxide\"], value = miu_0, alternative = \"smaller\")\n",
    "display(Markdown(f\"Didapat nilai $z = {round(z, 5)}$ dan $p = {round(p, 5)} $\"))\n",
    "\n",
    "z_alpha = stats.norm.ppf(1 - alpha)\n",
    "display(Markdown(f\"Didapat nilai $z_\\\\alpha = {round(z_alpha, 5)}$\"))\n",
    "\n",
    "display(Markdown(\"Hasil Keputusan: \"))\n",
    "\n",
    "if z < -z_alpha:\n",
    "    display(Markdown(f\"Tolak $H_0$ karena $z$ berada pada *critical section* $z < -z_\\\\alpha ({round(z, 5)} < {-round(z_alpha, 5)}$)\"))\n",
    "else:\n",
    "    display(Markdown(f\"Tidak tolak $H_0$ karena $z$ tidak berada pada *critical section* $z ≥ -z_\\\\alpha ({round(z, 5)} ≥ {-round(z_alpha, 5)}$)\"))\n",
    "    \n",
    "display(Markdown(\"Tes Signifikan: \"))\n",
    "\n",
    "if p < alpha:\n",
    "    display(Markdown(f\"Tolak $H_0$ karena $p$ lebih kecil dari tingkat signifikan yang diinginikan $p < \\\\alpha  ({round(p, 5)} < {alpha}$)\"))\n",
    "    display(Markdown(f\"Sehingga, nilai rata-rata total sulfur dioxide kurang dari ${miu_0}$\"))\n",
    "else:\n",
    "    display(Markdown(f\"Tidak tolak $H_0$ karena $p$ lebih besar atau sama dengan dari tingkat signifikan yang diinginikan $p ≥ \\\\alpha ({round(p, 5)} ≥ {alpha}$)\"))\n",
    "    display(Markdown(f\"Sehingga, nilai rata-rata total sulfur dioxide sama dengan ${miu_0}$\"))"
   ]
  },
  {
   "cell_type": "markdown",
   "metadata": {},
   "source": [
    "### e. Proporsi nilai total Sulfat Dioxide yang lebih dari 40, adalah tidak sama dengan 50% ?"
   ]
  },
  {
   "cell_type": "markdown",
   "metadata": {},
   "source": [
    "$H_0$: Persentase nilai total sulfat dioxide sama dengan $50\\%$ ($p_{0} = 0.5$)\n",
    "\n",
    "$H_1$: Persentase nilai total sulfat dioxied tidak sama dengan $50\\%$ ($p_{0} ≠ 0.5$)\n",
    "\n",
    "Tingkat Signifikan: $\\alpha = 0.05$\n",
    "\n",
    "Uji Statistik: Single Sample Two Tailed One Proportion Z Test dengan *Critical Section* $z < -z_{\\alpha/2}$ atau $z > z_{\\alpha/2}$\n",
    "\n",
    "Rumus perhitungan nilai $z$ :\n",
    "\n",
    "$$ z = \\frac{\\hat{p} - \\hat{p_{0}}} {\\sqrt{\\frac{p_{0} q_{0}} {n}}} $$\n",
    "\n",
    "Jika $z$ berada pada *critical section* ($z < -z_{\\alpha/2}$ atau $z > z_{\\alpha/2}$), maka nilai $p < \\alpha$ dan $H_0$ ditolak\n",
    "\n",
    "Jika $z$ tidak berada pada *critical section* ($-z_{\\alpha/2} ≤ z ≤ z_{\\alpha/2}$), maka nilai $p ≥ \\alpha$ dan $H_0$ tidak ditolak"
   ]
  },
  {
   "cell_type": "code",
   "execution_count": 41,
   "metadata": {},
   "outputs": [
    {
     "data": {
      "image/png": "[encoded data removed]",
      "text/plain": [
       "<Figure size 432x288 with 1 Axes>"
      ]
     },
     "metadata": {
      "needs_background": "light"
     },
     "output_type": "display_data"
    }
   ],
   "source": [
    "df[\"total sulfur dioxide\"].plot(kind=\"box\")\n",
    "plt.show()"
   ]
  },
  {
   "cell_type": "code",
   "execution_count": 42,
   "metadata": {},
   "outputs": [
    {
     "data": {
      "text/markdown": [
       "Didapat nilai $z = 0.75895$ dan $p = 0.44788 $"
      ],
      "text/plain": [
       "<IPython.core.display.Markdown object>"
      ]
     },
     "metadata": {},
     "output_type": "display_data"
    },
    {
     "data": {
      "text/markdown": [
       "Didapat nilai $z_{\\alpha/2} = 1.95996$"
      ],
      "text/plain": [
       "<IPython.core.display.Markdown object>"
      ]
     },
     "metadata": {},
     "output_type": "display_data"
    },
    {
     "data": {
      "text/markdown": [
       "Hasil Keputusan: "
      ],
      "text/plain": [
       "<IPython.core.display.Markdown object>"
      ]
     },
     "metadata": {},
     "output_type": "display_data"
    },
    {
     "data": {
      "text/markdown": [
       "Tidak tolak $H_0$ karena $z$ tidak berada pada *critical section* $-z_{\\alpha/2} ≤ z ≤ z_{\\alpha/2}$ $(-1.95996 ≤ 0.75895 ≤ 1.95996$)"
      ],
      "text/plain": [
       "<IPython.core.display.Markdown object>"
      ]
     },
     "metadata": {},
     "output_type": "display_data"
    },
    {
     "data": {
      "text/markdown": [
       "Tes Signifikan: "
      ],
      "text/plain": [
       "<IPython.core.display.Markdown object>"
      ]
     },
     "metadata": {},
     "output_type": "display_data"
    },
    {
     "data": {
      "text/markdown": [
       "Tidak tolak $H_0$ karena $p$ lebih besar atau sama dengan dari tingkat signifikan yang diinginikan $p ≥ \\alpha (0.44788 ≥ 0.05$)"
      ],
      "text/plain": [
       "<IPython.core.display.Markdown object>"
      ]
     },
     "metadata": {},
     "output_type": "display_data"
    },
    {
     "data": {
      "text/markdown": [
       "Sehingga, persentase nilai total Sulfur Dioxide yang lebih dari 40, adalah sama dengan $0.5$"
      ],
      "text/plain": [
       "<IPython.core.display.Markdown object>"
      ]
     },
     "metadata": {},
     "output_type": "display_data"
    }
   ],
   "source": [
    "p_0 = 0.50\n",
    "alpha = 0.05\n",
    "\n",
    "res = df[df[\"total sulfur dioxide\"] > 40]\n",
    "\n",
    "z, p = proportions_ztest(len(res), len(df), value = p_0, alternative = \"two-sided\", prop_var=p_0)\n",
    "display(Markdown(f\"Didapat nilai $z = {round(z, 5)}$ dan $p = {round(p, 5)} $\"))\n",
    "\n",
    "z_half_alpha = stats.norm.ppf(1 - alpha / 2)\n",
    "display(Markdown(f\"Didapat nilai $z_{{\\\\alpha/2}} = {round(z_half_alpha, 5)}$\"))\n",
    "\n",
    "display(Markdown(\"Hasil Keputusan: \"))\n",
    "\n",
    "if z < -z_half_alpha or z > z_half_alpha:\n",
    "    display(Markdown(f\"Tolak $H_0$ karena $z$ berada pada *critical section* $z < -z_{{\\\\alpha/2}}$ atau $z > z_{{\\\\alpha/2}}$ $({round(z, 5)} < -{round(z_half_alpha, 5)}$ atau ${round(z, 5)} > {round(z_half_alpha, 5)})$\"))\n",
    "else:\n",
    "    display(Markdown(f\"Tidak tolak $H_0$ karena $z$ tidak berada pada *critical section* $-z_{{\\\\alpha/2}} ≤ z ≤ z_{{\\\\alpha/2}}$ $(-{round(z_half_alpha, 5)} ≤ {round(z, 5)} ≤ {round(z_half_alpha, 5)}$)\"))\n",
    "    \n",
    "display(Markdown(\"Tes Signifikan: \"))\n",
    "\n",
    "if p < alpha:\n",
    "    display(Markdown(f\"Tolak $H_0$ karena $p$ lebih kecil dari tingkat signifikan yang diinginikan $p < \\\\alpha  ({round(p, 5)} < {alpha}$)\"))\n",
    "    display(Markdown(f\"Sehingga, persentase nilai total Sulfur Dioxide yang lebih dari 40, adalah tidak sama dengan ${p_0}$\"))\n",
    "else:\n",
    "    display(Markdown(f\"Tidak tolak $H_0$ karena $p$ lebih besar atau sama dengan dari tingkat signifikan yang diinginikan $p ≥ \\\\alpha ({round(p, 5)} ≥ {alpha}$)\"))\n",
    "    display(Markdown(f\"Sehingga, persentase nilai total Sulfur Dioxide yang lebih dari 40, adalah sama dengan ${p_0}$\"))"
   ]
  },
  {
   "cell_type": "markdown",
   "metadata": {},
   "source": [
    "## 5. Test Hipotesis 2 Sampel"
   ]
  },
  {
   "cell_type": "markdown",
   "metadata": {},
   "source": [
    "### a. Data kolom fixed acidity dibagi 2 sama rata: bagian awal dan bagian akhir kolom. Benarkah rata-rata kedua bagian tersebut sama?"
   ]
  },
  {
   "cell_type": "markdown",
   "metadata": {},
   "source": [
    "$H_0$: Nilai rata-rata kolom awal fixed acidity sama dengan nilai rata-rata kolom akhir fixed acidity ($μ_{1} - μ_{2} = 0$)\n",
    "\n",
    "$H_1$: Nilai rata-rata kolom awal fixed acidity tidak sama dengan nilai rata-rata kolom akhir fixed acidity ($μ_{1} - μ_{2} ≠ 0$)\n",
    "\n",
    "Tingkat Signifikan: $\\alpha = 0.05$\n",
    "\n",
    "Uji Statistik: Double Sample Two Tailed Z Test dengan *Critical Section* $z < -z_{\\alpha/2}$ atau $z > z_{\\alpha/2}$\n",
    "\n",
    "Rumus perhitungan nilai $z$:\n",
    "\n",
    "$$ z = \\frac{(\\bar{x_{1}} - \\bar{x_{2}}) - (μ_{1} - μ_{2})} {\\sqrt{\\sigma_{1}^{2}/n_{1} + \\sigma_{2}^{2}/n_{2}}} $$\n",
    "\n",
    "Jika $z$ berada pada *critical section* ($z < -z_{\\alpha/2}$ atau $z > z_{\\alpha/2}$), maka nilai $p < \\alpha$ dan $H_0$ ditolak\n",
    "\n",
    "Jika $z$ tidak berada pada *critical section* ($-z_{\\alpha/2} ≤ z ≤ z_{\\alpha/2}$), maka nilai $p ≥ \\alpha$ dan $H_0$ diterima"
   ]
  },
  {
   "cell_type": "code",
   "execution_count": 43,
   "metadata": {},
   "outputs": [
    {
     "data": {
      "image/png": "[encoded data removed]",
      "text/plain": [
       "<Figure size 936x360 with 2 Axes>"
      ]
     },
     "metadata": {},
     "output_type": "display_data"
    },
    {
     "data": {
      "text/markdown": [
       "Didapatkan nilai:"
      ],
      "text/plain": [
       "<IPython.core.display.Markdown object>"
      ]
     },
     "metadata": {},
     "output_type": "display_data"
    },
    {
     "data": {
      "text/markdown": [
       "$z = 0.026$"
      ],
      "text/plain": [
       "<IPython.core.display.Markdown object>"
      ]
     },
     "metadata": {},
     "output_type": "display_data"
    },
    {
     "data": {
      "text/markdown": [
       "$p = 0.9792$"
      ],
      "text/plain": [
       "<IPython.core.display.Markdown object>"
      ]
     },
     "metadata": {},
     "output_type": "display_data"
    },
    {
     "data": {
      "text/markdown": [
       "$z_{\\alpha/2} = 1.96$"
      ],
      "text/plain": [
       "<IPython.core.display.Markdown object>"
      ]
     },
     "metadata": {},
     "output_type": "display_data"
    },
    {
     "data": {
      "text/markdown": [
       "$z$ tidak berada pada *critical section* ($-1.96 ≤ z ≤ 1.96$)"
      ],
      "text/plain": [
       "<IPython.core.display.Markdown object>"
      ]
     },
     "metadata": {},
     "output_type": "display_data"
    },
    {
     "data": {
      "text/markdown": [
       "$p$ lebih besar atau sama dengan tingkat signifikan yang diinginkan ($p ≥ 0.05$)"
      ],
      "text/plain": [
       "<IPython.core.display.Markdown object>"
      ]
     },
     "metadata": {},
     "output_type": "display_data"
    },
    {
     "data": {
      "text/markdown": [
       "Keputusan: Terima $H_0$"
      ],
      "text/plain": [
       "<IPython.core.display.Markdown object>"
      ]
     },
     "metadata": {},
     "output_type": "display_data"
    },
    {
     "data": {
      "text/markdown": [
       "Jadi, nilai rata-rata kolom awal fixed acidity sama dengan nilai rata-rata kolom akhir fixed acidity ($μ_{1} - μ_{2} = 0$)"
      ],
      "text/plain": [
       "<IPython.core.display.Markdown object>"
      ]
     },
     "metadata": {},
     "output_type": "display_data"
    }
   ],
   "source": [
    "# PLot box kedua sampel\n",
    "f, [ax1, ax2] = plt.subplots(1,2,figsize=(13,5))\n",
    "f.tight_layout()\n",
    "f.set_facecolor('white')\n",
    "\n",
    "fa = df[\"fixed acidity\"][:len(df) // 2]\n",
    "fb = df[\"fixed acidity\"][len(df) // 2:]\n",
    "\n",
    "ax1.boxplot(fa, showmeans=True)\n",
    "ax1.set(title='Boxplot Kolom fixed acidity Awal', ylabel='frekuensi')\n",
    "ax1.grid()\n",
    "\n",
    "ax2.boxplot(fb, showmeans=True)\n",
    "ax2.set(title='Boxplot Kolom fixed acidity Akhir', ylabel='frekuensi')\n",
    "ax2.grid()\n",
    "\n",
    "f.subplots_adjust(wspace=0.2)\n",
    "plt.show()\n",
    "\n",
    "# uji hipotesis sampel        \n",
    "delta_miu = 0\n",
    "alpha = 0.05\n",
    "\n",
    "z, p = ztest(fa, fb, value=delta_miu, alternative=\"two-sided\")\n",
    "display(Markdown(\"Didapatkan nilai:\"))\n",
    "display(Markdown(f\"$z = {round(z, 4)}$\"))\n",
    "display(Markdown(f\"$p = {round(p, 4)}$\"))\n",
    "\n",
    "z_alpha_per_dua = stats.norm.ppf(1 - alpha / 2)\n",
    "display(Markdown(f\"$z_{{\\\\alpha/2}} = {round(z_alpha_per_dua, 4)}$\"))\n",
    "\n",
    "if z < -z_alpha_per_dua or z > z_alpha_per_dua:\n",
    "    display(Markdown(f\"$z$ berada pada *critical section* ($z < {round(-z_alpha_per_dua, 4)}$ atau $z > {round(z_alpha_per_dua, 4)}$)\"))\n",
    "    display(Markdown(f\"$p$ lebih kecil dari tingkat signifikan yang diinginkan ($p < {alpha}$)\"))\n",
    "    display(Markdown(f\"Keputusan: Tolak $H_0$\"))\n",
    "    display(Markdown(f\"Jadi, nilai rata-rata kolom awal fixed acidity tidak sama dengan nilai rata-rata kolom akhir fixed acidity ($μ_{{1}} - μ_{{2}} ≠ {delta_miu}$)\"))\n",
    "else:\n",
    "    display(Markdown(f\"$z$ tidak berada pada *critical section* (${round(-z_alpha_per_dua, 4)} ≤ z ≤ {round(z_alpha_per_dua, 4)}$)\"))\n",
    "    display(Markdown(f\"$p$ lebih besar atau sama dengan tingkat signifikan yang diinginkan ($p ≥ {alpha}$)\"))\n",
    "    display(Markdown(f\"Keputusan: Terima $H_0$\"))\n",
    "    display(Markdown(f\"Jadi, nilai rata-rata kolom awal fixed acidity sama dengan nilai rata-rata kolom akhir fixed acidity ($μ_{{1}} - μ_{{2}} = {delta_miu}$)\"))"
   ]
  },
  {
   "cell_type": "markdown",
   "metadata": {},
   "source": [
    "## b. Data kolom chlorides dibagi 2 sama rata: bagian awal dan bagian akhir kolom. Benarkah rata-rata bagian awal lebih besar daripada bagian akhir sebesar 0.001?"
   ]
  },
  {
   "cell_type": "markdown",
   "metadata": {},
   "source": [
    "$H_0$: Perbedaan nilai rata-rata kolom awal chlorides dengan nilai rata-rata kolom akhir chlorides sama dengan 0.001 ($μ_{1} - μ_{2} = 0.001$)\n",
    "\n",
    "$H_1$: Perbedaan nilai rata-rata kolom awal chlorides dengan nilai rata-rata kolom akhir chlorides tidak sama dengan 0.001 ($μ_{1} - μ_{2} ≠ 0.001$)\n",
    "\n",
    "Tingkat Signifikan: $\\alpha = 0.05$\n",
    "\n",
    "Uji Statistik: Double Sample Two Tailed Z Test dengan *Critical Section* $z < -z_{\\alpha/2}$ atau $z > z_{\\alpha/2}$\n",
    "\n",
    "Rumus perhitungan nilai $z$:\n",
    "\n",
    "$$ z = \\frac{(\\bar{x_{1}} - \\bar{x_{2}}) - (μ_{1} - μ_{2})} {\\sqrt{\\sigma_{1}^{2}/n_{1} + \\sigma_{2}^{2}/n_{2}}} $$\n",
    "\n",
    "Jika $z$ berada pada *critical section* ($z < -z_{\\alpha/2}$ atau $z > z_{\\alpha/2}$), maka nilai $p < \\alpha$ dan $H_0$ ditolak\n",
    "\n",
    "Jika $z$ tidak berada pada *critical section* ($-z_{\\alpha/2} ≤ z ≤ z_{\\alpha/2}$), maka nilai $p ≥ \\alpha$ dan $H_0$ diterima"
   ]
  },
  {
   "cell_type": "code",
   "execution_count": 44,
   "metadata": {},
   "outputs": [
    {
     "data": {
      "image/png": "[encoded data removed]",
      "text/plain": [
       "<Figure size 936x360 with 2 Axes>"
      ]
     },
     "metadata": {},
     "output_type": "display_data"
    },
    {
     "data": {
      "text/markdown": [
       "Didapatkan nilai:"
      ],
      "text/plain": [
       "<IPython.core.display.Markdown object>"
      ]
     },
     "metadata": {},
     "output_type": "display_data"
    },
    {
     "data": {
      "text/markdown": [
       "$z = -0.4673$"
      ],
      "text/plain": [
       "<IPython.core.display.Markdown object>"
      ]
     },
     "metadata": {},
     "output_type": "display_data"
    },
    {
     "data": {
      "text/markdown": [
       "$p = 0.6403$"
      ],
      "text/plain": [
       "<IPython.core.display.Markdown object>"
      ]
     },
     "metadata": {},
     "output_type": "display_data"
    },
    {
     "data": {
      "text/markdown": [
       "$z_{\\alpha/2} = 1.96$"
      ],
      "text/plain": [
       "<IPython.core.display.Markdown object>"
      ]
     },
     "metadata": {},
     "output_type": "display_data"
    },
    {
     "data": {
      "text/markdown": [
       "$z$ tidak berada pada *critical section* ($-1.96 ≤ z ≤ 1.96$)"
      ],
      "text/plain": [
       "<IPython.core.display.Markdown object>"
      ]
     },
     "metadata": {},
     "output_type": "display_data"
    },
    {
     "data": {
      "text/markdown": [
       "$p$ lebih besar atau sama dengan tingkat signifikan yang diinginkan ($p ≥ 0.05$)"
      ],
      "text/plain": [
       "<IPython.core.display.Markdown object>"
      ]
     },
     "metadata": {},
     "output_type": "display_data"
    },
    {
     "data": {
      "text/markdown": [
       "Keputusan: Terima $H_0$"
      ],
      "text/plain": [
       "<IPython.core.display.Markdown object>"
      ]
     },
     "metadata": {},
     "output_type": "display_data"
    },
    {
     "data": {
      "text/markdown": [
       "Jadi, nilai rata-rata kolom awal chlorides lebih besar dari nilai rata-rata kolom akhir chlorides sebesar 0.001 ($μ_{1} - μ_{2} = 0.001$)"
      ],
      "text/plain": [
       "<IPython.core.display.Markdown object>"
      ]
     },
     "metadata": {},
     "output_type": "display_data"
    }
   ],
   "source": [
    "f, [ax1, ax2] = plt.subplots(1,2,figsize=(13,5))\n",
    "f.tight_layout()\n",
    "f.set_facecolor('white')\n",
    "\n",
    "fa = df[\"chlorides\"][:len(df) // 2]\n",
    "fb = df[\"chlorides\"][len(df) // 2:]\n",
    "\n",
    "ax1.boxplot(fa, showmeans=True)\n",
    "ax1.set(title='Boxplot Kolom chlorides Awal', ylabel='frekuensi')\n",
    "ax1.grid()\n",
    "\n",
    "ax2.boxplot(fb, showmeans=True)\n",
    "ax2.set(title='Boxplot Kolom chlorides Akhir', ylabel='frekuensi')\n",
    "ax2.grid()\n",
    "\n",
    "f.subplots_adjust(wspace=0.2)\n",
    "plt.show()\n",
    "\n",
    "\n",
    "delta_miu = 0.001\n",
    "alpha = 0.05\n",
    "\n",
    "z, p = ztest(fa, fb, value=delta_miu, alternative=\"two-sided\")\n",
    "display(Markdown(\"Didapatkan nilai:\"))\n",
    "display(Markdown(f\"$z = {round(z, 4)}$\"))\n",
    "display(Markdown(f\"$p = {round(p, 4)}$\"))\n",
    "\n",
    "z_alpha_per_dua = stats.norm.ppf(1 - alpha / 2)\n",
    "display(Markdown(f\"$z_{{\\\\alpha/2}} = {round(z_alpha_per_dua, 4)}$\"))\n",
    "\n",
    "if z < -z_alpha_per_dua or z > z_alpha_per_dua:\n",
    "    display(Markdown(f\"$z$ berada pada *critical section* ($z < {round(-z_alpha_per_dua, 4)}$ atau $z > {round(z_alpha_per_dua, 4)}$)\"))\n",
    "    display(Markdown(f\"$p$ lebih kecil dari tingkat signifikan yang diinginkan ($p < {alpha}$)\"))\n",
    "    display(Markdown(f\"Keputusan: Tolak $H_0$\"))\n",
    "    display(Markdown(f\"Jadi, nilai rata-rata kolom awal chlorides tidak lebih besar dari nilai rata-rata kolom akhir chlorides sebesar {delta_miu} ($μ_{{1}} - μ_{{2}} ≠ {delta_miu}$)\"))\n",
    "else:\n",
    "    display(Markdown(f\"$z$ tidak berada pada *critical section* (${round(-z_alpha_per_dua, 4)} ≤ z ≤ {round(z_alpha_per_dua, 4)}$)\"))\n",
    "    display(Markdown(f\"$p$ lebih besar atau sama dengan tingkat signifikan yang diinginkan ($p ≥ {alpha}$)\"))\n",
    "    display(Markdown(f\"Keputusan: Terima $H_0$\"))\n",
    "    display(Markdown(f\"Jadi, nilai rata-rata kolom awal chlorides lebih besar dari nilai rata-rata kolom akhir chlorides sebesar {delta_miu} ($μ_{{1}} - μ_{{2}} = {delta_miu}$)\"))"
   ]
  },
  {
   "cell_type": "markdown",
   "metadata": {},
   "source": [
    "## c. Benarkah rata-rata sampel 25 baris pertama kolom volatile acidity sama dengan rata-rata 25 baris pertama kolom sulphates"
   ]
  },
  {
   "cell_type": "markdown",
   "metadata": {},
   "source": [
    "$H_0$: Nilai rata-rata 25 baris pertama kolom volatile acidity sama dengan nilai rata-rata 25 baris pertama kolom sulphates ($μ_{1} - μ_{2} = 0$)\n",
    "\n",
    "$H_1$: Nilai rata-rata 25 baris pertama kolom volatile acidity tidak sama dengan nilai rata-rata 25 baris pertama kolom sulphates ($μ_{1} - μ_{2} ≠ 0$)\n",
    "\n",
    "Tingkat Signifikan: $\\alpha = 0.05$\n",
    "\n",
    "Uji Statistik: Double Sample Two Tailed Z Test dengan *Critical Section* $z < -z_{\\alpha/2}$ atau $z > z_{\\alpha/2}$\n",
    "\n",
    "Rumus perhitungan nilai $z$:\n",
    "\n",
    "$$ z = \\frac{(\\bar{x_{1}} - \\bar{x_{2}}) - (μ_{1} - μ_{2})} {\\sqrt{\\sigma_{1}^{2}/n_{1} + \\sigma_{2}^{2}/n_{2}}} $$\n",
    "\n",
    "Jika $z$ berada pada *critical section* ($z < -z_{\\alpha/2}$ atau $z > z_{\\alpha/2}$), maka nilai $p < \\alpha$ dan $H_0$ ditolak\n",
    "\n",
    "Jika $z$ tidak berada pada *critical section* ($-z_{\\alpha/2} ≤ z ≤ z_{\\alpha/2}$), maka nilai $p ≥ \\alpha$ dan $H_0$ diterima"
   ]
  },
  {
   "cell_type": "code",
   "execution_count": 45,
   "metadata": {},
   "outputs": [
    {
     "data": {
      "image/png": "[encoded data removed]",
      "text/plain": [
       "<Figure size 936x360 with 2 Axes>"
      ]
     },
     "metadata": {},
     "output_type": "display_data"
    },
    {
     "data": {
      "text/markdown": [
       "Didapatkan nilai:"
      ],
      "text/plain": [
       "<IPython.core.display.Markdown object>"
      ]
     },
     "metadata": {},
     "output_type": "display_data"
    },
    {
     "data": {
      "text/markdown": [
       "$z = -2.6375$"
      ],
      "text/plain": [
       "<IPython.core.display.Markdown object>"
      ]
     },
     "metadata": {},
     "output_type": "display_data"
    },
    {
     "data": {
      "text/markdown": [
       "$p = 0.0084$"
      ],
      "text/plain": [
       "<IPython.core.display.Markdown object>"
      ]
     },
     "metadata": {},
     "output_type": "display_data"
    },
    {
     "data": {
      "text/markdown": [
       "$z_{\\alpha/2} = 1.96$"
      ],
      "text/plain": [
       "<IPython.core.display.Markdown object>"
      ]
     },
     "metadata": {},
     "output_type": "display_data"
    },
    {
     "data": {
      "text/markdown": [
       "$z$ berada pada *critical section* ($z < -1.96$ atau $z > 1.96$)"
      ],
      "text/plain": [
       "<IPython.core.display.Markdown object>"
      ]
     },
     "metadata": {},
     "output_type": "display_data"
    },
    {
     "data": {
      "text/markdown": [
       "$p$ lebih kecil dari tingkat signifikan yang diinginkan ($p < 0.05$)"
      ],
      "text/plain": [
       "<IPython.core.display.Markdown object>"
      ]
     },
     "metadata": {},
     "output_type": "display_data"
    },
    {
     "data": {
      "text/markdown": [
       "Keputusan: Tolak $H_0$"
      ],
      "text/plain": [
       "<IPython.core.display.Markdown object>"
      ]
     },
     "metadata": {},
     "output_type": "display_data"
    },
    {
     "data": {
      "text/markdown": [
       "Jadi, nilai rata-rata 25 baris pertama kolom volatile acidity tidak sama dengan nilai rata-rata 25 baris pertama kolom sulphates ($μ_{1} - μ_{2} ≠ 0$)"
      ],
      "text/plain": [
       "<IPython.core.display.Markdown object>"
      ]
     },
     "metadata": {},
     "output_type": "display_data"
    }
   ],
   "source": [
    "f, [ax1, ax2] = plt.subplots(1,2,figsize=(13,5))\n",
    "f.tight_layout()\n",
    "f.set_facecolor('white')\n",
    "\n",
    "fa = df['volatile acidity'][:25]\n",
    "fb = df['sulphates'][:25]\n",
    "\n",
    "ax1.boxplot(fa, showmeans=True)\n",
    "ax1.set(title='Boxplot 25 Baris Pertama Kolom volatile acidity', ylabel='frekuensi')\n",
    "ax1.grid()\n",
    "\n",
    "ax2.boxplot(fb, showmeans=True)\n",
    "ax2.set(title='Boxplot 25 Baris Pertama Kolom sulphates', ylabel='frekuensi')\n",
    "ax2.grid()\n",
    "\n",
    "f.subplots_adjust(wspace=0.2)\n",
    "plt.show()\n",
    "\n",
    "\n",
    "delta_miu = 0\n",
    "alpha = 0.05\n",
    "\n",
    "z, p = ztest(fa, fb, value=delta_miu, alternative=\"two-sided\")\n",
    "display(Markdown(\"Didapatkan nilai:\"))\n",
    "display(Markdown(f\"$z = {round(z, 4)}$\"))\n",
    "display(Markdown(f\"$p = {round(p, 4)}$\"))\n",
    "\n",
    "z_alpha_per_dua = stats.norm.ppf(1 - alpha / 2)\n",
    "display(Markdown(f\"$z_{{\\\\alpha/2}} = {round(z_alpha_per_dua, 4)}$\"))\n",
    "\n",
    "if z < -z_alpha_per_dua or z > z_alpha_per_dua:\n",
    "    display(Markdown(f\"$z$ berada pada *critical section* ($z < {round(-z_alpha_per_dua, 4)}$ atau $z > {round(z_alpha_per_dua, 4)}$)\"))\n",
    "    display(Markdown(f\"$p$ lebih kecil dari tingkat signifikan yang diinginkan ($p < {alpha}$)\"))\n",
    "    display(Markdown(f\"Keputusan: Tolak $H_0$\"))\n",
    "    display(Markdown(f\"Jadi, nilai rata-rata 25 baris pertama kolom volatile acidity tidak sama dengan nilai rata-rata 25 baris pertama kolom sulphates ($μ_{{1}} - μ_{{2}} ≠ {delta_miu}$)\"))\n",
    "else:\n",
    "    display(Markdown(f\"$z$ tidak berada pada *critical section* (${round(-z_alpha_per_dua, 4)} ≤ z ≤ {round(z_alpha_per_dua, 4)}$)\"))\n",
    "    display(Markdown(f\"$p$ lebih besar atau sama dengan tingkat signifikan yang diinginkan ($p ≥ {alpha}$)\"))\n",
    "    display(Markdown(f\"Keputusan: Terima $H_0$\"))\n",
    "    display(Markdown(f\"Jadi, nilai rata-rata 25 baris pertama kolom volatile acidity sama dengan nilai rata-rata 25 baris pertama kolom sulphates ($μ_{{1}} - μ_{{2}} = {delta_miu}$)\"))"
   ]
  },
  {
   "cell_type": "markdown",
   "metadata": {},
   "source": [
    "## d. Bagian awal kolom residual sugar memiliki variansi yang sama dengan bagian akhirnya?"
   ]
  },
  {
   "cell_type": "markdown",
   "metadata": {},
   "source": [
    "$H_0$: Variansi pada bagian awal kolom residual sugar sama dengan variansi pada bagian akhir kolom residual sugar (${\\sigma_{1}}^{2} = {\\sigma_{2}}^{2}$)\n",
    "\n",
    "$H_1$: Variansi pada bagian awal kolom residual sugar tidak sama dengan variansi pada bagian akhir kolom residual sugar (${\\sigma_{1}}^{2} ≠ {\\sigma_{2}}^{2}$)\n",
    "\n",
    "Tingkat Signifikan: $\\alpha = 0.05$\n",
    "\n",
    "Uji Statistik: Double Sample Two Tailed F Test dengan *Critical Section* $f < f_{1 - \\alpha / 2} (v_1, v_2)$ atau $f > f_{\\alpha / 2} (v_1, v_2)$ dengan $v_1 = n_1 - 1$ dan $v_2 = n_2 - 1$\n",
    "\n",
    "Rumus perhitungan nilai $f$:\n",
    "\n",
    "$$ f = \\frac{s_{1}^{2}}{s_{2}^{2}} $$\n",
    "\n",
    "Jika $f$ berada pada *critical section* ($f < f_{1 - \\alpha / 2} (v_1, v_2)$ atau $f > f_{\\alpha / 2} (v_1, v_2)$), maka nilai $p < \\alpha$ dan $H_0$ ditolak\n",
    "\n",
    "Jika $f$ tidak berada pada *critical section* ($f_{1 - \\alpha / 2} (v_1, v_2) ≤ f ≤ f_{\\alpha / 2} (v_1, v_2)$), maka nilai $p ≥ \\alpha$ dan $H_0$ diterima"
   ]
  },
  {
   "cell_type": "code",
   "execution_count": 46,
   "metadata": {},
   "outputs": [
    {
     "data": {
      "image/png": "[encoded data removed]",
      "text/plain": [
       "<Figure size 936x360 with 2 Axes>"
      ]
     },
     "metadata": {},
     "output_type": "display_data"
    },
    {
     "data": {
      "text/markdown": [
       "Didapatkan nilai:"
      ],
      "text/plain": [
       "<IPython.core.display.Markdown object>"
      ]
     },
     "metadata": {},
     "output_type": "display_data"
    },
    {
     "data": {
      "text/markdown": [
       "$z = -2.6375$"
      ],
      "text/plain": [
       "<IPython.core.display.Markdown object>"
      ]
     },
     "metadata": {},
     "output_type": "display_data"
    },
    {
     "data": {
      "text/markdown": [
       "$p = 0.7476$"
      ],
      "text/plain": [
       "<IPython.core.display.Markdown object>"
      ]
     },
     "metadata": {},
     "output_type": "display_data"
    },
    {
     "data": {
      "text/markdown": [
       "$f_{1 - \\alpha / 2} (v_1, v_2) = 0.8389$"
      ],
      "text/plain": [
       "<IPython.core.display.Markdown object>"
      ]
     },
     "metadata": {},
     "output_type": "display_data"
    },
    {
     "data": {
      "text/markdown": [
       "$f_{\\alpha / 2} (v_1, v_2) = 1.1921$"
      ],
      "text/plain": [
       "<IPython.core.display.Markdown object>"
      ]
     },
     "metadata": {},
     "output_type": "display_data"
    },
    {
     "data": {
      "text/markdown": [
       "$f$ tidak berada pada *critical section* ($ 0.8389 ≤ f ≤ 1.1921$)"
      ],
      "text/plain": [
       "<IPython.core.display.Markdown object>"
      ]
     },
     "metadata": {},
     "output_type": "display_data"
    },
    {
     "data": {
      "text/markdown": [
       "$p$ lebih besar atau sama dengan tingkat signifikan yang diinginkan ($p ≥ 0.05$)"
      ],
      "text/plain": [
       "<IPython.core.display.Markdown object>"
      ]
     },
     "metadata": {},
     "output_type": "display_data"
    },
    {
     "data": {
      "text/markdown": [
       "Keputusan: Terima $H_0$"
      ],
      "text/plain": [
       "<IPython.core.display.Markdown object>"
      ]
     },
     "metadata": {},
     "output_type": "display_data"
    },
    {
     "data": {
      "text/markdown": [
       "Jadi, variansi pada bagian awal kolom residual sugar sama dengan variansi pada bagian akhir kolom residual sugar ($𝜎_1^2 = 𝜎_2^2$)"
      ],
      "text/plain": [
       "<IPython.core.display.Markdown object>"
      ]
     },
     "metadata": {},
     "output_type": "display_data"
    }
   ],
   "source": [
    "f, [ax1, ax2] = plt.subplots(1,2,figsize=(13,5))\n",
    "f.tight_layout()\n",
    "f.set_facecolor('white')\n",
    "\n",
    "fa = df['residual sugar'][:len(df) // 2]\n",
    "fb = df['residual sugar'][len(df) // 2:]\n",
    "\n",
    "ax1.boxplot(fa, showmeans=True)\n",
    "ax1.set(title='Boxplot Kolom residual sugar Awal', ylabel='frekuensi')\n",
    "ax1.grid()\n",
    "\n",
    "ax2.boxplot(fb, showmeans=True)\n",
    "ax2.set(title='Boxplot Kolom residual sugar Akhir', ylabel='frekuensi')\n",
    "ax2.grid()\n",
    "\n",
    "f.subplots_adjust(wspace=0.2)\n",
    "plt.show()\n",
    "\n",
    "alpha = 0.05\n",
    "v_1 = len(df[:len(df) // 2]) - 1\n",
    "v_2 = len(df[len(df) // 2:]) - 1\n",
    "\n",
    "f = fa.var() / fb.var()\n",
    "p = 1 - stats.f.cdf(f, v_1, v_2)\n",
    "display(Markdown(\"Didapatkan nilai:\"))\n",
    "display(Markdown(f\"$z = {round(z, 4)}$\"))\n",
    "display(Markdown(f\"$p = {round(p, 4)}$\"))\n",
    "\n",
    "f_lower = stats.f.ppf(alpha / 2, v_1, v_2)\n",
    "f_upper = stats.f.ppf(1 - alpha / 2, v_1, v_2)\n",
    "display(Markdown(f\"$f_{{1 - \\\\alpha / 2}} (v_1, v_2) = {round(f_lower, 4)}$\"))\n",
    "display(Markdown(f\"$f_{{\\\\alpha / 2}} (v_1, v_2) = {round(f_upper, 4)}$\"))\n",
    "\n",
    "if f < f_lower or f > f_upper:\n",
    "    display(Markdown(f\"$f$ berada pada *critical section* ($f < {round(f_lower, 4)}$ atau $f > {round(f_upper, 4)}$)\"))\n",
    "    display(Markdown(f\"$p$ lebih kecil dari tingkat signifikan yang diinginkan ($p < {alpha}$)\"))\n",
    "    display(Markdown(f\"Keputusan: Tolak $H_0$\"))\n",
    "    display(Markdown(f\"Jadi, variansi pada bagian awal kolom residual sugar tidak sama dengan variansi pada bagian akhir kolom residual sugar ($𝜎_{1}^{2} ≠ 𝜎_{2}^{2}$)\"))\n",
    "else:\n",
    "    display(Markdown(f\"$f$ tidak berada pada *critical section* ($ {round(f_lower, 4)} ≤ f ≤ {round(f_upper, 4)}$)\"))\n",
    "    display(Markdown(f\"$p$ lebih besar atau sama dengan tingkat signifikan yang diinginkan ($p ≥ {alpha}$)\"))\n",
    "    display(Markdown(f\"Keputusan: Terima $H_0$\"))\n",
    "    display(Markdown(f\"Jadi, variansi pada bagian awal kolom residual sugar sama dengan variansi pada bagian akhir kolom residual sugar ($𝜎_{1}^{2} = 𝜎_{2}^{2}$)\"))"
   ]
  },
  {
   "cell_type": "markdown",
   "metadata": {},
   "source": [
    "## e. Proporsi nilai setengah bagian awal alcohol yang lebih dari 7, adalah lebih besar daripada, proporsi nilai yang sama di setengah bagian akhir alcohol?"
   ]
  },
  {
   "cell_type": "markdown",
   "metadata": {},
   "source": [
    "$H_0$: Proporsi nilai bagian awal alcohol yang lebih dari 7 sama besar dengan proporsi nilai yang sama pada di bagian akhir alcohol ($p_{1} - p_{2} = 0$)\n",
    "\n",
    "$H_1$: Proporsi nilai bagian awal alcohol yang lebih dari 7 lebih besar dengan proporsi nilai yang sama pada di bagian akhir alcohol ($p_{1} - p_{2} > 0$)\n",
    "\n",
    "Tingkat Signifikan: $\\alpha = 0.05$\n",
    "\n",
    "Uji Statistik: Single Sample Right Tailed One Proportion Z Test dengan *Critical Section* $z > z_\\alpha$\n",
    "\n",
    "Rumus perhitungan nilai $z$:\n",
    "\n",
    "$$ z = \\frac{\\hat{p_{1}} - \\hat{p_{2}}} {\\sqrt{\\hat{p}\\hat{q}(1/n_{1} + 1/n_{2})}} $$\n",
    "\n",
    "Jika $z$ berada pada *critical section* ($z > z_\\alpha$), maka nilai $p < \\alpha$ dan $H_0$ ditolak\n",
    "\n",
    "Jika $z$ tidak berada pada *critical section* ($z ≤ z_\\alpha$), maka nilai $p ≥ \\alpha$ dan $H_0$ tidak ditolak"
   ]
  },
  {
   "cell_type": "code",
   "execution_count": 47,
   "metadata": {},
   "outputs": [
    {
     "data": {
      "image/png": "[encoded data removed]",
      "text/plain": [
       "<Figure size 936x360 with 2 Axes>"
      ]
     },
     "metadata": {},
     "output_type": "display_data"
    },
    {
     "data": {
      "text/markdown": [
       "Didapatkan nilai:"
      ],
      "text/plain": [
       "<IPython.core.display.Markdown object>"
      ]
     },
     "metadata": {},
     "output_type": "display_data"
    },
    {
     "data": {
      "text/markdown": [
       "$z = 0.0$"
      ],
      "text/plain": [
       "<IPython.core.display.Markdown object>"
      ]
     },
     "metadata": {},
     "output_type": "display_data"
    },
    {
     "data": {
      "text/markdown": [
       "$p = 0.5$"
      ],
      "text/plain": [
       "<IPython.core.display.Markdown object>"
      ]
     },
     "metadata": {},
     "output_type": "display_data"
    },
    {
     "data": {
      "text/markdown": [
       "$z_{\\alpha} = 1.6449$"
      ],
      "text/plain": [
       "<IPython.core.display.Markdown object>"
      ]
     },
     "metadata": {},
     "output_type": "display_data"
    },
    {
     "data": {
      "text/markdown": [
       "$z$ tidak berada pada *critical section* ($z ≤ 1.6449$)"
      ],
      "text/plain": [
       "<IPython.core.display.Markdown object>"
      ]
     },
     "metadata": {},
     "output_type": "display_data"
    },
    {
     "data": {
      "text/markdown": [
       "$p$ lebih besar atau sama dengan tingkat signifikan yang diinginkan ($p ≥ 0.05$)"
      ],
      "text/plain": [
       "<IPython.core.display.Markdown object>"
      ]
     },
     "metadata": {},
     "output_type": "display_data"
    },
    {
     "data": {
      "text/markdown": [
       "Keputusan: Terima $H_0$"
      ],
      "text/plain": [
       "<IPython.core.display.Markdown object>"
      ]
     },
     "metadata": {},
     "output_type": "display_data"
    },
    {
     "data": {
      "text/markdown": [
       "Jadi, proporsi nilai bagian awal alcohol yang lebih dari 7 sama besar dengan proporsi nilai yang sama pada di bagian akhir alcohol ($p_{1} - p_{2} = 0$)"
      ],
      "text/plain": [
       "<IPython.core.display.Markdown object>"
      ]
     },
     "metadata": {},
     "output_type": "display_data"
    }
   ],
   "source": [
    "f, [ax1, ax2] = plt.subplots(1,2,figsize=(13,5))\n",
    "f.tight_layout()\n",
    "f.set_facecolor('white')\n",
    "\n",
    "fa = df['alcohol'][:len(df) // 2]\n",
    "fb = df['alcohol'][len(df) // 2:]\n",
    "\n",
    "ax1.boxplot(fa, showmeans=True)\n",
    "ax1.set(title='Boxplot Bagian Awal Kolom alcohol', ylabel='frekuensi')\n",
    "ax1.grid()\n",
    "\n",
    "ax2.boxplot(fb, showmeans=True)\n",
    "ax2.set(title='Boxplot Bagian Akhir Kolom alcohol', ylabel='frekuensi')\n",
    "ax2.grid()\n",
    "\n",
    "f.subplots_adjust(wspace=0.2)\n",
    "plt.show()\n",
    "\n",
    "\n",
    "delta_p = 0\n",
    "alpha = 0.05\n",
    "\n",
    "z, p = proportions_ztest([len(fa[fa > 7]), len(fb[fb > 7])], [len(fa), len(fb)], value=delta_p, alternative=\"larger\")\n",
    "display(Markdown(\"Didapatkan nilai:\"))\n",
    "display(Markdown(f\"$z = {round(z, 4)}$\"))\n",
    "display(Markdown(f\"$p = {round(p, 4)}$\"))\n",
    "\n",
    "z_alpha = stats.norm.ppf(1 - alpha)\n",
    "display(Markdown(f\"$z_{{\\\\alpha}} = {round(z_alpha, 4)}$\"))\n",
    "\n",
    "if z > z_alpha:\n",
    "    display(Markdown(f\"$z$ berada pada *critical section* ($z > {round(z_alpha, 4)}$)\"))\n",
    "    display(Markdown(f\"$p$ lebih kecil dari tingkat signifikan yang diinginkan ($p < {alpha}$)\"))\n",
    "    display(Markdown(f\"Keputusan: Tolak $H_0$\"))\n",
    "    display(Markdown(f\"Jadi, proporsi nilai bagian awal alcohol yang lebih dari 7 lebih besar dengan proporsi nilai yang sama pada di bagian akhir alcohol ($p_{{1}} - p_{{2}} > {delta_p}$)\"))\n",
    "else:\n",
    "    display(Markdown(f\"$z$ tidak berada pada *critical section* ($z ≤ {round(z_alpha, 4)}$)\"))\n",
    "    display(Markdown(f\"$p$ lebih besar atau sama dengan tingkat signifikan yang diinginkan ($p ≥ {alpha}$)\"))\n",
    "    display(Markdown(f\"Keputusan: Terima $H_0$\"))\n",
    "    display(Markdown(f\"Jadi, proporsi nilai bagian awal alcohol yang lebih dari 7 sama besar dengan proporsi nilai yang sama pada di bagian akhir alcohol ($p_{{1}} - p_{{2}} = {delta_p}$)\"))"
   ]
  }
 ],
 "metadata": {
  "kernelspec": {
   "display_name": "Python 3 (ipykernel)",
   "language": "python",
   "name": "python3"
  },
  "language_info": {
   "codemirror_mode": {
    "name": "ipython",
    "version": 3
   },
   "file_extension": ".py",
   "mimetype": "text/x-python",
   "name": "python",
   "nbconvert_exporter": "python",
   "pygments_lexer": "ipython3",
   "version": "3.9.7"
  }
 },
 "nbformat": 4,
 "nbformat_minor": 2
}
